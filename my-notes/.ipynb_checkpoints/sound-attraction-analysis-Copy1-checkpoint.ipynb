{
 "cells": [
  {
   "cell_type": "markdown",
   "metadata": {},
   "source": [
    "# Sound Attraction Analysis\n",
    "This notebook is for comparison of the RW and RepAtt algorithm within a 50m x 50m simulation environment. The purpose of the investigation is to see the differences in navigation of a single robot when it is listening to a single sound source."
   ]
  },
  {
   "cell_type": "code",
   "execution_count": 4,
   "metadata": {},
   "outputs": [],
   "source": [
    "%matplotlib inline\n",
    "import pandas as pd\n",
    "import numpy as np\n",
    "import matplotlib.pyplot as plt\n",
    "import re\n",
    "import pathlib\n",
    "from glob import glob\n",
    "from IPython.display import display\n",
    "import os"
   ]
  },
  {
   "cell_type": "code",
   "execution_count": 5,
   "metadata": {},
   "outputs": [
    {
     "data": {
      "text/plain": [
       "['../results\\\\2019-01-31-rectangle-RepAtt-vs-RW-attraction2sound',\n",
       " '../results\\\\2019-02-01-rectangle-RepAtt-vs-RW-attraction2sound']"
      ]
     },
     "metadata": {},
     "output_type": "display_data"
    }
   ],
   "source": [
    "allsoundResults = glob('../results/2019*attraction2sound')\n",
    "display(allsoundResults)\n",
    "\n",
    "soundResultPath = allsoundResults[1] + '/'"
   ]
  },
  {
   "cell_type": "markdown",
   "metadata": {},
   "source": [
    "## Create Readme\n",
    "My simulations did not create a readme file which I can use to process the different algorithms used to simulate the attraction behaviour. So I need to create one\n",
    "\n",
    "During this process, I also create a list of IDs that represent the different algorithms"
   ]
  },
  {
   "cell_type": "code",
   "execution_count": 6,
   "metadata": {},
   "outputs": [],
   "source": [
    "IDList = []\n",
    "with open(soundResultPath + 'readme2.md','w+') as f:\n",
    "    for name in glob(soundResultPath + '*robot*'):\n",
    "        name = name.replace('\\\\','/')\n",
    "        name = name.split('/')\n",
    "        name = name[-1].split('_')\n",
    "        prefix = name[0]\n",
    "        algID = prefix.split('-')\n",
    "        algID = '-'.join(algID[1:-7])\n",
    "        lineData = 'prefix:{},ID:{}\\n'.format(prefix,algID)\n",
    "        IDList.append(algID)\n",
    "        f.write(lineData)\n",
    "uniqIDs = pd.Series(IDList).unique()\n"
   ]
  },
  {
   "cell_type": "markdown",
   "metadata": {},
   "source": [
    "## Create DataFrames\n",
    "\n",
    "We will need dataframe that represents the logged data and dataframe to hold all instances of a particular parameter of interest for different simulation counts of a particular algorithm"
   ]
  },
  {
   "cell_type": "code",
   "execution_count": 2,
   "metadata": {},
   "outputs": [],
   "source": [
    "def beacon_distance_plots(algIDsims,timeList,analysisFolder,ID):\n",
    "    f = plt.figure()\n",
    "    algIDsims.plot(ax=f.gca(),color=colors)\n",
    "    plt.legend().set_visible(False)\n",
    "    plt.xlabel('Time in Seconds')\n",
    "    plt.ylabel('Distance in metres')\n",
    "    plt.ylim([0, 15])\n",
    "    plt.xticks(np.linspace(min(timeList),max(timeList),10))\n",
    "    f.savefig(analysisFolder + ID + '.pdf', bbox_inches='tight')\n",
    "#     plt.title(ID)\n",
    "#     display(ID,algIDsims)\n",
    "#     plt.legend().set_visible(True)\n",
    "    \n",
    "    plt.close()"
   ]
  },
  {
   "cell_type": "code",
   "execution_count": 1,
   "metadata": {},
   "outputs": [],
   "source": [
    "def beacon_distance_analysis_plot(algIDsims,analysisFolder):\n",
    "    colors = plt.cm.jet(np.linspace(0,1,len(algIDsims['Mean'].index))) # 30 different colors for 30 simulations per algorithm\n",
    "    for cl in algIDsims['Mean'].columns:\n",
    "        if 'Noise' in cl:\n",
    "            col = cl.split('-')\n",
    "            N = int(re.findall('\\d+',col[1])[0])\n",
    "            Q = int(re.findall('\\d+',col[2])[0])\n",
    "            col = '{}-N{:03d}-Q{:02d}'.format(col[0],N,Q)\n",
    "            algIDsims['Mean'].rename(columns={cl:col},inplace=True)\n",
    "            algIDsims['CI95'].rename(columns={cl:col},inplace=True)\n",
    "        \n",
    "    algIDsims['Mean'] = algIDsims['Mean'].transpose()\n",
    "    algIDsims['Mean'] = algIDsims['Mean'].sort_index()\n",
    "    \n",
    "    algIDsims['CI95'] = algIDsims['CI95'].transpose()\n",
    "    algIDsims['CI95'] = algIDsims['CI95'].sort_index()\n",
    "    \n",
    "    algIDsimsLatex = pd.DataFrame(index=algIDsims['Mean'].index,\n",
    "                                 columns=algIDsims['Mean'].columns)\n",
    "#     display(algIDsimsLatex)\n",
    "#     display(algIDsims['STD'])\n",
    "#     display(algIDsims['Mean'])\n",
    "    for ind in algIDsims['Mean'].index:\n",
    "        \n",
    "        for col in algIDsims['Mean'].columns:\n",
    "#             print(ind,col)\n",
    "            algIDsimsLatex.loc[ind,col] = \\\n",
    "            '${:.2f} \\pm {:.2f}$'.format(algIDsims['Mean'].loc[ind,col],\n",
    "                                         algIDsims['CI95'].loc[ind,col])\n",
    "   \n",
    "    algIDsimsLatex.to_latex(analysisFolder + 'beacon_distance.tex',\n",
    "                           encoding='utf-8', escape=False)\n",
    "    f = plt.figure()\n",
    "    algIDsims['Mean'].plot(kind='bar',ax = f.gca(),color=colors,stacked=True)\n",
    "    plt.legend(loc='center left',bbox_to_anchor=(1,0.5),title='Distance').set_visible(True)\n",
    "    plt.ylabel('Time in Seconds')\n",
    "    plt.xlabel('Algorithms')\n",
    "    f.savefig(analysisFolder + 'beacon_distance.pdf', bbox_inches='tight')\n",
    "    \n"
   ]
  },
  {
   "cell_type": "code",
   "execution_count": null,
   "metadata": {
    "collapsed": true
   },
   "outputs": [],
   "source": []
  },
  {
   "cell_type": "code",
   "execution_count": 15,
   "metadata": {
    "scrolled": true
   },
   "outputs": [
    {
     "data": {
      "text/html": [
       "<div>\n",
       "<style scoped>\n",
       "    .dataframe tbody tr th:only-of-type {\n",
       "        vertical-align: middle;\n",
       "    }\n",
       "\n",
       "    .dataframe tbody tr th {\n",
       "        vertical-align: top;\n",
       "    }\n",
       "\n",
       "    .dataframe thead th {\n",
       "        text-align: right;\n",
       "    }\n",
       "</style>\n",
       "<table border=\"1\" class=\"dataframe\">\n",
       "  <thead>\n",
       "    <tr style=\"text-align: right;\">\n",
       "      <th></th>\n",
       "      <th>0</th>\n",
       "      <th>1</th>\n",
       "      <th>2</th>\n",
       "      <th>3</th>\n",
       "      <th>4</th>\n",
       "      <th>5</th>\n",
       "      <th>6</th>\n",
       "      <th>7</th>\n",
       "      <th>8</th>\n",
       "      <th>9</th>\n",
       "      <th>...</th>\n",
       "      <th>20</th>\n",
       "      <th>21</th>\n",
       "      <th>22</th>\n",
       "      <th>23</th>\n",
       "      <th>24</th>\n",
       "      <th>25</th>\n",
       "      <th>26</th>\n",
       "      <th>27</th>\n",
       "      <th>28</th>\n",
       "      <th>29</th>\n",
       "    </tr>\n",
       "  </thead>\n",
       "  <tbody>\n",
       "    <tr>\n",
       "      <th>0-0.5</th>\n",
       "      <td>11.0</td>\n",
       "      <td>3.0</td>\n",
       "      <td>11.0</td>\n",
       "      <td>11.0</td>\n",
       "      <td>11.0</td>\n",
       "      <td>11.0</td>\n",
       "      <td>21.0</td>\n",
       "      <td>52.0</td>\n",
       "      <td>52.0</td>\n",
       "      <td>52.0</td>\n",
       "      <td>...</td>\n",
       "      <td>12.0</td>\n",
       "      <td>52.0</td>\n",
       "      <td>3.0</td>\n",
       "      <td>11.0</td>\n",
       "      <td>3.0</td>\n",
       "      <td>11.0</td>\n",
       "      <td>3.0</td>\n",
       "      <td>3.0</td>\n",
       "      <td>3.0</td>\n",
       "      <td>11.0</td>\n",
       "    </tr>\n",
       "    <tr>\n",
       "      <th>0.5-0.8</th>\n",
       "      <td>11.0</td>\n",
       "      <td>3.0</td>\n",
       "      <td>11.0</td>\n",
       "      <td>11.0</td>\n",
       "      <td>11.0</td>\n",
       "      <td>11.0</td>\n",
       "      <td>21.0</td>\n",
       "      <td>52.0</td>\n",
       "      <td>52.0</td>\n",
       "      <td>52.0</td>\n",
       "      <td>...</td>\n",
       "      <td>12.0</td>\n",
       "      <td>52.0</td>\n",
       "      <td>3.0</td>\n",
       "      <td>11.0</td>\n",
       "      <td>3.0</td>\n",
       "      <td>11.0</td>\n",
       "      <td>3.0</td>\n",
       "      <td>3.0</td>\n",
       "      <td>3.0</td>\n",
       "      <td>11.0</td>\n",
       "    </tr>\n",
       "    <tr>\n",
       "      <th>0.8-1.0</th>\n",
       "      <td>11.0</td>\n",
       "      <td>3.0</td>\n",
       "      <td>11.0</td>\n",
       "      <td>11.0</td>\n",
       "      <td>11.0</td>\n",
       "      <td>11.0</td>\n",
       "      <td>21.0</td>\n",
       "      <td>52.0</td>\n",
       "      <td>52.0</td>\n",
       "      <td>52.0</td>\n",
       "      <td>...</td>\n",
       "      <td>12.0</td>\n",
       "      <td>52.0</td>\n",
       "      <td>3.0</td>\n",
       "      <td>11.0</td>\n",
       "      <td>3.0</td>\n",
       "      <td>11.0</td>\n",
       "      <td>3.0</td>\n",
       "      <td>3.0</td>\n",
       "      <td>3.0</td>\n",
       "      <td>11.0</td>\n",
       "    </tr>\n",
       "    <tr>\n",
       "      <th>&gt; 1.0</th>\n",
       "      <td>77.0</td>\n",
       "      <td>15.0</td>\n",
       "      <td>77.0</td>\n",
       "      <td>77.0</td>\n",
       "      <td>77.0</td>\n",
       "      <td>77.0</td>\n",
       "      <td>29.0</td>\n",
       "      <td>68.0</td>\n",
       "      <td>68.0</td>\n",
       "      <td>68.0</td>\n",
       "      <td>...</td>\n",
       "      <td>25.0</td>\n",
       "      <td>68.0</td>\n",
       "      <td>15.0</td>\n",
       "      <td>74.0</td>\n",
       "      <td>15.0</td>\n",
       "      <td>77.0</td>\n",
       "      <td>15.0</td>\n",
       "      <td>15.0</td>\n",
       "      <td>15.0</td>\n",
       "      <td>77.0</td>\n",
       "    </tr>\n",
       "  </tbody>\n",
       "</table>\n",
       "<p>4 rows × 30 columns</p>\n",
       "</div>"
      ],
      "text/plain": [
       "           0     1     2     3     4     5     6     7     8     9   ...   \\\n",
       "0-0.5    11.0   3.0  11.0  11.0  11.0  11.0  21.0  52.0  52.0  52.0  ...    \n",
       "0.5-0.8  11.0   3.0  11.0  11.0  11.0  11.0  21.0  52.0  52.0  52.0  ...    \n",
       "0.8-1.0  11.0   3.0  11.0  11.0  11.0  11.0  21.0  52.0  52.0  52.0  ...    \n",
       "> 1.0    77.0  15.0  77.0  77.0  77.0  77.0  29.0  68.0  68.0  68.0  ...    \n",
       "\n",
       "           20    21    22    23    24    25    26    27    28    29  \n",
       "0-0.5    12.0  52.0   3.0  11.0   3.0  11.0   3.0   3.0   3.0  11.0  \n",
       "0.5-0.8  12.0  52.0   3.0  11.0   3.0  11.0   3.0   3.0   3.0  11.0  \n",
       "0.8-1.0  12.0  52.0   3.0  11.0   3.0  11.0   3.0   3.0   3.0  11.0  \n",
       "> 1.0    25.0  68.0  15.0  74.0  15.0  77.0  15.0  15.0  15.0  77.0  \n",
       "\n",
       "[4 rows x 30 columns]"
      ]
     },
     "metadata": {},
     "output_type": "display_data"
    },
    {
     "data": {
      "text/plain": [
       "'RepAtt-Noise0pct-qsize1'"
      ]
     },
     "metadata": {},
     "output_type": "display_data"
    },
    {
     "data": {
      "text/plain": [
       "29"
      ]
     },
     "metadata": {},
     "output_type": "display_data"
    },
    {
     "data": {
      "text/plain": [
       "'RepAtt-Noise100pct-qsize40'"
      ]
     },
     "metadata": {},
     "output_type": "display_data"
    },
    {
     "data": {
      "text/plain": [
       "29"
      ]
     },
     "metadata": {},
     "output_type": "display_data"
    },
    {
     "data": {
      "text/plain": [
       "'RW-0p0025P'"
      ]
     },
     "metadata": {},
     "output_type": "display_data"
    },
    {
     "data": {
      "text/plain": [
       "29"
      ]
     },
     "metadata": {},
     "output_type": "display_data"
    },
    {
     "data": {
      "image/png": "[encoded data removed]",
      "text/plain": [
       "<Figure size 432x288 with 1 Axes>"
      ]
     },
     "metadata": {
      "needs_background": "light"
     },
     "output_type": "display_data"
    }
   ],
   "source": [
    "analysisFolder = soundResultPath + 'sound_analysis/'\n",
    "pathlib.Path(analysisFolder).mkdir(parents=False,exist_ok=True)\n",
    "\n",
    "logCSVcols = ['name', 'Time', 'xc', 'yc', 'theta', 'turn_prob', 'beacon_distance',\n",
    "          'rep_neigh','rep_signal','call_neigh','call_signal','linear_dist',\n",
    "          'rot_dist','wall_bounces','t_obstacle_avoidance','action','state']\n",
    "timeList = [] # needed to keep list of time steps\n",
    "colors = plt.cm.jet(np.linspace(0,1,30)) # 30 different colors for 30 simulations per algorithm\n",
    "\n",
    "maxDbound = [0.5, 0.8, 1.0]\n",
    "boundRange = ['{}-{}'.format(i,j) for i,j in zip([0,0.5,0.8],maxDbound)]\n",
    "boundRange.append('> {}'.format(maxDbound[-1]))\n",
    "maxDbound = np.append(maxDbound,np.Inf)\n",
    "\n",
    "allIDdists = {'Mean': pd.DataFrame(index=boundRange),\n",
    "             'CI95': pd.DataFrame(index=boundRange)}\n",
    "\n",
    "for ID in uniqIDs:\n",
    "    algIDsims = pd.DataFrame() #dataframe to keep each simulation as column\n",
    "    algIDdist = pd.DataFrame(index=boundRange)\n",
    "    sim = 0\n",
    "    for sim,simTime in enumerate(glob(soundResultPath + '*' + ID + '*')):\n",
    "        simData = pd.read_csv(simTime,header = None, sep = ':|,',\n",
    "                              engine='python', names = logCSVcols)\n",
    "#         display(simData)\n",
    "        if len(simData['Time']) > len(timeList):#keep track of longest rows\n",
    "            timeList = simData['Time']\n",
    "        algIDsims[sim] = simData['beacon_distance']\n",
    "        \n",
    "        for ind in boundRange:\n",
    "            if '>' in ind:\n",
    "                minDbound = 1.0\n",
    "                mDbound = np.Inf\n",
    "            else:\n",
    "                ind1 = ind.split('-')\n",
    "                minDbound = float(bnd1[0])\n",
    "                mDbound = float(bnd1[1])\n",
    "\n",
    "                \n",
    "            algIDdist.loc[ind,sim] = len(algIDsims[sim].loc[\n",
    "                    (algIDsims[sim] >= minDbound)  & \n",
    "                    (algIDsims[sim] < mDbound)\n",
    "                ])\n",
    "    if ID == 'RepAtt-Noise0pct-qsize1':\n",
    "        display(algIDdist)\n",
    "    allIDdists['Mean'][ID] = algIDdist.mean(axis=1)\n",
    "    allIDdists['CI95'][ID] = algIDdist.std(axis=1) * 1.96 / np.sqrt(sim)\n",
    "    beacon_distance_plots(algIDsims,timeList.values,analysisFolder,ID)\n",
    "    display(ID,sim)\n",
    "\n",
    "#plot analysis of all the algorithm's distance from the beacon\n",
    "beacon_distance_analysis_plot(allIDdists,analysisFolder)\n",
    "\n",
    "\n"
   ]
  },
  {
   "cell_type": "code",
   "execution_count": 12,
   "metadata": {},
   "outputs": [
    {
     "data": {
      "text/plain": [
       "{'Mean':                       0-0.5     0.5-0.8     0.8-1.0       > 1.0\n",
       " RW-0p0025P        63.500000   63.500000   63.500000  865.366667\n",
       " RepAtt-N000-Q01   21.933333   21.933333   21.933333   49.466667\n",
       " RepAtt-N100-Q40  196.700000  196.700000  196.700000  471.833333,\n",
       " 'CI95':                      0-0.5    0.5-0.8    0.8-1.0      > 1.0\n",
       " RW-0p0025P       16.172392  16.172392  16.172392  31.222119\n",
       " RepAtt-N000-Q01   7.433213   7.433213   7.433213   9.730411\n",
       " RepAtt-N100-Q40  13.931008  13.931008  13.931008  89.666602}"
      ]
     },
     "execution_count": 12,
     "metadata": {},
     "output_type": "execute_result"
    }
   ],
   "source": [
    "allIDdists"
   ]
  },
  {
   "cell_type": "code",
   "execution_count": 34,
   "metadata": {},
   "outputs": [
    {
     "data": {
      "text/plain": [
       "array([  1,   2,   3,   4,   5, 900])"
      ]
     },
     "execution_count": 34,
     "metadata": {},
     "output_type": "execute_result"
    }
   ],
   "source": [
    "maxDbound = np.arange(5) + 1\n",
    "boundRange = ['{}-{}'.format(i,j) for i,j in enumerate(maxDbound)]\n",
    "boundRange.append('> {}'.format(maxDbound[-1]))\n",
    "boundRange\n",
    "np.append(maxDbound,900)"
   ]
  }
 ],
 "metadata": {
  "kernelspec": {
   "display_name": "Python 3",
   "language": "python",
   "name": "python3"
  },
  "language_info": {
   "codemirror_mode": {
    "name": "ipython",
    "version": 3
   },
   "file_extension": ".py",
   "mimetype": "text/x-python",
   "name": "python",
   "nbconvert_exporter": "python",
   "pygments_lexer": "ipython3",
   "version": "3.7.0"
  }
 },
 "nbformat": 4,
 "nbformat_minor": 2
}
