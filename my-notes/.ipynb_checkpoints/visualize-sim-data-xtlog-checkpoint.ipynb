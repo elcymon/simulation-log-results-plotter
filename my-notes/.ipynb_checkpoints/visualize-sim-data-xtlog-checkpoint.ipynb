{
 "cells": [
  {
   "cell_type": "markdown",
   "metadata": {},
   "source": [
    "#  Information Visualization\n",
    "The purpose of this notebook is to visualize the information logged during simulation.\n",
    "\n",
    "## Robot Visualization\n",
    "This section is to view the information logged by a robot. I think I can include other methods to visualize information from the whole swarm. But for now, I will stick to visualizing a single robot"
   ]
  },
  {
   "cell_type": "code",
   "execution_count": 4,
   "metadata": {},
   "outputs": [
    {
     "ename": "AttributeError",
     "evalue": "type object 'DataFrame' has no attribute 'floor'",
     "output_type": "error",
     "traceback": [
      "\u001b[1;31m---------------------------------------------------------------------------\u001b[0m",
      "\u001b[1;31mAttributeError\u001b[0m                            Traceback (most recent call last)",
      "\u001b[1;32m<ipython-input-4-335b19a18a5b>\u001b[0m in \u001b[0;36m<module>\u001b[1;34m()\u001b[0m\n\u001b[0;32m      4\u001b[0m \u001b[1;31m# !which python\u001b[0m\u001b[1;33m\u001b[0m\u001b[1;33m\u001b[0m\u001b[0m\n\u001b[0;32m      5\u001b[0m \u001b[1;32mimport\u001b[0m \u001b[0mpandas\u001b[0m \u001b[1;32mas\u001b[0m \u001b[0mpd\u001b[0m\u001b[1;33m\u001b[0m\u001b[0m\n\u001b[1;32m----> 6\u001b[1;33m \u001b[0mpd\u001b[0m\u001b[1;33m.\u001b[0m\u001b[0mDataFrame\u001b[0m\u001b[1;33m.\u001b[0m\u001b[0mfloor\u001b[0m\u001b[1;33m(\u001b[0m\u001b[1;33m[\u001b[0m\u001b[1;36m1.9\u001b[0m\u001b[1;33m]\u001b[0m\u001b[1;33m)\u001b[0m\u001b[1;33m\u001b[0m\u001b[0m\n\u001b[0m",
      "\u001b[1;31mAttributeError\u001b[0m: type object 'DataFrame' has no attribute 'floor'"
     ]
    }
   ],
   "source": [
    "# import pandas as pd\n",
    "# filename = sim_folders[0] + '/readme.md'\n",
    "# pd.read_csv(filename)\n",
    "# !which python\n",
    "import pandas as pd\n",
    "pd.DataFrame.floor([1.9])"
   ]
  },
  {
   "cell_type": "code",
   "execution_count": 2,
   "metadata": {},
   "outputs": [
    {
     "data": {
      "text/plain": [
       "['../results\\\\2019-02-04-OneCluster-SA-N0-M1-1000-D1-1000',\n",
       " '../results\\\\2019-02-04-Uniform-SA-N0-M1-1000-D1-1000',\n",
       " '../results\\\\2019-02-04-Uniform100m-SA-N0-M1-1000-D1-1000',\n",
       " '../results\\\\2019-02-05-OneCluster100m-SA-N0-M1-1000-D1-1000',\n",
       " '../results\\\\2019-02-05-OneClusterUnbounded-SA-N0-M1-1000-D1-1000',\n",
       " '../results\\\\2019-02-05-UniformUnbounded-SA-N0-M1-1000-D1-1000']"
      ]
     },
     "execution_count": 2,
     "metadata": {},
     "output_type": "execute_result"
    }
   ],
   "source": [
    "from result_plotter2 import MyPlotter\n",
    "from glob import glob\n",
    "sim_folders = glob('../results/2019*D1-1000')\n",
    "# sim_folders = ['../results/2018-12-05-TwoClusters100m-RepAtt-vs-RW-100m']\n",
    "sim_folders# = sim_folders[1:]"
   ]
  },
  {
   "cell_type": "code",
   "execution_count": 2,
   "metadata": {
    "scrolled": true
   },
   "outputs": [
    {
     "name": "stdout",
     "output_type": "stream",
     "text": [
      "../results\\2019-02-04-OneCluster-SA-N0-M1-1000-D1-1000\n",
      "1/5: 29/30\n",
      "Mismatch Occured\n",
      "1/5: 30/30\t26-SA-N0-M1-D1-2019-02-04--15-28-02:11 = [ 0 14 23 28 29 31 32 34 34 35]\n",
      "5/5: 7/30\n",
      "Mismatch Occured\n",
      "5/5: 8/30\t132-SA-N0-M1000-D1000-2019-02-04--22-34-13:11 = [ 0 19 21 29 30 32 32 33 34 34]\n",
      "5/5: 8/30\n",
      "Mismatch Occured\n",
      "5/5: 9/30\t134-SA-N0-M1000-D1000-2019-02-04--22-41-38:11 = [ 0 16 23 28 31 34 35 36 36 36]\n",
      "5/5: 30/30\n",
      "../results\\2019-02-04-Uniform-SA-N0-M1-1000-D1-1000\n",
      "5/5: 30/30\n",
      "../results\\2019-02-04-Uniform100m-SA-N0-M1-1000-D1-1000\n",
      "5/5: 30/30\n",
      "../results\\2019-02-05-OneCluster100m-SA-N0-M1-1000-D1-1000\n"
     ]
    },
    {
     "name": "stderr",
     "output_type": "stream",
     "text": [
      "C:\\Users\\scsoo\\OneDrive - University of Leeds\\All PhD Docs\\PhDVMFiles\\simulation log results\\my-notes\\result_plotter2.py:365: RuntimeWarning: Mean of empty slice\n",
      "  pctMean.append(np.nanmean(litData))\n",
      "C:\\ProgramData\\Anaconda3\\lib\\site-packages\\numpy\\lib\\nanfunctions.py:1545: RuntimeWarning: Degrees of freedom <= 0 for slice.\n",
      "  keepdims=keepdims)\n"
     ]
    },
    {
     "name": "stdout",
     "output_type": "stream",
     "text": [
      "\n",
      "Mismatch Occured\n",
      "1/5: 1/30\t9-SA-N0-M1-D1-2019-02-04--15-28-02:11 = [ 0 15 22 29 32 33 36 36]\n",
      "1/5: 1/30\n",
      "Mismatch Occured\n",
      "1/5: 2/30\t5-SA-N0-M1-D1-2019-02-04--15-28-02:11 = [ 0 14 21 26 29 34 35 35]\n",
      "1/5: 2/30\n",
      "Mismatch Occured\n",
      "1/5: 3/30\t10-SA-N0-M1-D1-2019-02-04--15-28-02:11 = [ 0 16 22 26 28 31 33]\n",
      "1/5: 3/30\n",
      "Mismatch Occured\n",
      "1/5: 4/30\t2-SA-N0-M1-D1-2019-02-04--15-28-02:11 = [ 0 11 19 25 27 32 33]\n",
      "1/5: 4/30\n",
      "Mismatch Occured\n",
      "1/5: 5/30\t7-SA-N0-M1-D1-2019-02-04--15-28-02:11 = [ 0 14 20 27 30 33 33 34]\n",
      "1/5: 5/30\n",
      "Mismatch Occured\n",
      "1/5: 6/30\t6-SA-N0-M1-D1-2019-02-04--15-28-02:11 = [ 0 11 18 24 29 33 36 36]\n",
      "1/5: 6/30\n",
      "Mismatch Occured\n",
      "1/5: 7/30\t1-SA-N0-M1-D1-2019-02-04--15-28-02:11 = [ 0 15 21 26 28 30 33 35]\n",
      "1/5: 7/30\n",
      "Mismatch Occured\n",
      "1/5: 8/30\t3-SA-N0-M1-D1-2019-02-04--15-28-02:11 = [ 0 15 21 27 31 32 35 35]\n",
      "1/5: 8/30\n",
      "Mismatch Occured\n",
      "1/5: 9/30\t8-SA-N0-M1-D1-2019-02-04--15-28-02:11 = [ 0 15 25 30 31 32 34 34]\n",
      "1/5: 9/30\n",
      "Mismatch Occured\n",
      "1/5: 10/30\t12-SA-N0-M1-D1-2019-02-04--15-28-02:11 = [ 0 12 23 27 29 31 33 36]\n",
      "1/5: 10/30\n",
      "Mismatch Occured\n",
      "1/5: 11/30\t4-SA-N0-M1-D1-2019-02-04--15-28-02:11 = [ 0 14 22 29 31 34 35]\n",
      "1/5: 11/30\n",
      "Mismatch Occured\n",
      "1/5: 12/30\t11-SA-N0-M1-D1-2019-02-04--15-28-02:11 = [ 0 14 22 27 31 34 34]\n",
      "1/5: 12/30\n",
      "Mismatch Occured\n",
      "1/5: 13/30\t14-SA-N0-M1-D1-2019-02-04--16-32-03:11 = [ 0 13 19 24 28 31 34 34]\n",
      "1/5: 13/30\n",
      "Mismatch Occured\n",
      "1/5: 14/30\t16-SA-N0-M1-D1-2019-02-04--16-33-46:11 = [ 0 15 24 29 30 32 34 34]\n",
      "1/5: 14/30\n",
      "Mismatch Occured\n",
      "1/5: 15/30\t13-SA-N0-M1-D1-2019-02-04--16-31-03:11 = [ 0 16 22 26 30 32 34 35]\n",
      "1/5: 15/30\n",
      "Mismatch Occured\n",
      "1/5: 16/30\t17-SA-N0-M1-D1-2019-02-04--16-33-46:11 = [ 0 12 17 23 28 32 33 34]\n",
      "1/5: 16/30\n",
      "Mismatch Occured\n",
      "1/5: 17/30\t15-SA-N0-M1-D1-2019-02-04--16-33-46:11 = [ 0 15 19 27 30 30 33 34]\n",
      "1/5: 17/30\n",
      "Mismatch Occured\n",
      "1/5: 18/30\t18-SA-N0-M1-D1-2019-02-04--16-33-46:11 = [ 0 14 23 25 28 30 33 33]\n",
      "1/5: 18/30\n",
      "Mismatch Occured\n",
      "1/5: 19/30\t20-SA-N0-M1-D1-2019-02-04--16-44-55:11 = [ 0 15 22 26 28 35 36 36]\n",
      "1/5: 19/30\n",
      "Mismatch Occured\n",
      "1/5: 20/30\t22-SA-N0-M1-D1-2019-02-04--16-44-49:11 = [ 0 15 26 26 28 30 33 33]\n",
      "1/5: 20/30\n",
      "Mismatch Occured\n",
      "1/5: 21/30\t21-SA-N0-M1-D1-2019-02-04--16-44-55:11 = [ 0 14 22 25 27 32 34]\n",
      "1/5: 21/30\n",
      "Mismatch Occured\n",
      "1/5: 22/30\t23-SA-N0-M1-D1-2019-02-04--16-47-38:11 = [ 0 16 21 30 31 34 35 35]\n",
      "1/5: 22/30\n",
      "Mismatch Occured\n",
      "1/5: 23/30\t25-SA-N0-M1-D1-2019-02-04--16-47-38:11 = [ 0 16 20 25 29 31 33 33]\n",
      "1/5: 23/30\n",
      "Mismatch Occured\n",
      "1/5: 24/30\t24-SA-N0-M1-D1-2019-02-04--16-47-38:11 = [ 0 15 21 26 31 33 33]\n",
      "1/5: 24/30\n",
      "Mismatch Occured\n",
      "1/5: 25/30\t19-SA-N0-M1-D1-2019-02-04--16-41-41:11 = [ 0 14 20 25 30 34 34 36 36]\n",
      "1/5: 25/30\n",
      "Mismatch Occured\n",
      "1/5: 26/30\t27-SA-N0-M1-D1-2019-02-04--16-57-15:11 = [ 0 13 19 24 30 33 33 35]\n",
      "1/5: 26/30\n",
      "Mismatch Occured\n",
      "1/5: 27/30\t29-SA-N0-M1-D1-2019-02-04--16-57-37:11 = [ 0 15 21 28 31 34 35 35]\n",
      "1/5: 27/30\n",
      "Mismatch Occured\n",
      "1/5: 28/30\t28-SA-N0-M1-D1-2019-02-04--16-57-37:11 = [ 0 11 21 27 32 35 35]\n",
      "1/5: 28/30\n",
      "Mismatch Occured\n",
      "1/5: 29/30\t26-SA-N0-M1-D1-2019-02-04--16-56-53:11 = [ 0 14 23 25 27 33 34]\n",
      "1/5: 29/30\n",
      "Mismatch Occured\n",
      "1/5: 30/30\t30-SA-N0-M1-D1-2019-02-04--16-59-06:11 = [ 0 18 20 24 29 31 32 33]\n",
      "1/5: 30/30"
     ]
    },
    {
     "ename": "ZeroDivisionError",
     "evalue": "division by zero",
     "output_type": "error",
     "traceback": [
      "\u001b[1;31m---------------------------------------------------------------------------\u001b[0m",
      "\u001b[1;31mZeroDivisionError\u001b[0m                         Traceback (most recent call last)",
      "\u001b[1;32m<ipython-input-2-7e0dc716bcf0>\u001b[0m in \u001b[0;36m<module>\u001b[1;34m()\u001b[0m\n\u001b[0;32m     13\u001b[0m \u001b[1;33m\u001b[0m\u001b[0m\n\u001b[0;32m     14\u001b[0m \u001b[1;31m#     Extract other logged parameters of the swarm\u001b[0m\u001b[1;33m\u001b[0m\u001b[1;33m\u001b[0m\u001b[0m\n\u001b[1;32m---> 15\u001b[1;33m     \u001b[0mplotObj\u001b[0m\u001b[1;33m.\u001b[0m\u001b[0mprocessParamData\u001b[0m\u001b[1;33m(\u001b[0m\u001b[1;33m)\u001b[0m\u001b[1;33m\u001b[0m\u001b[0m\n\u001b[0m\u001b[0;32m     16\u001b[0m \u001b[1;33m\u001b[0m\u001b[0m\n\u001b[0;32m     17\u001b[0m \u001b[1;31m#     Save processed information in excel file\u001b[0m\u001b[1;33m\u001b[0m\u001b[1;33m\u001b[0m\u001b[0m\n",
      "\u001b[1;32mC:\\Users\\scsoo\\OneDrive - University of Leeds\\All PhD Docs\\PhDVMFiles\\simulation log results\\my-notes\\result_plotter2.py\u001b[0m in \u001b[0;36mprocessParamData\u001b[1;34m(self)\u001b[0m\n\u001b[0;32m    276\u001b[0m             \u001b[1;31m# print(all_num_robots)\u001b[0m\u001b[1;33m\u001b[0m\u001b[1;33m\u001b[0m\u001b[0m\n\u001b[0;32m    277\u001b[0m             \u001b[0mself\u001b[0m\u001b[1;33m.\u001b[0m\u001b[0mnum_successful_robots\u001b[0m\u001b[1;33m[\u001b[0m\u001b[1;34m'Mean'\u001b[0m\u001b[1;33m]\u001b[0m\u001b[1;33m.\u001b[0m\u001b[0mloc\u001b[0m\u001b[1;33m[\u001b[0m\u001b[0mi\u001b[0m\u001b[1;33m]\u001b[0m\u001b[1;33m,\u001b[0m\u001b[0mself\u001b[0m\u001b[1;33m.\u001b[0m\u001b[0mnum_successful_robots\u001b[0m\u001b[1;33m[\u001b[0m\u001b[1;34m'CI95'\u001b[0m\u001b[1;33m]\u001b[0m\u001b[1;33m.\u001b[0m\u001b[0mloc\u001b[0m\u001b[1;33m[\u001b[0m\u001b[0mi\u001b[0m\u001b[1;33m]\u001b[0m \u001b[1;33m=\u001b[0m\u001b[0;31m \u001b[0m\u001b[0;31m\\\u001b[0m\u001b[1;33m\u001b[0m\u001b[0m\n\u001b[1;32m--> 278\u001b[1;33m             \u001b[0mnp\u001b[0m\u001b[1;33m.\u001b[0m\u001b[0mnanmean\u001b[0m\u001b[1;33m(\u001b[0m\u001b[0mall_num_robots\u001b[0m\u001b[1;33m,\u001b[0m\u001b[0maxis\u001b[0m\u001b[1;33m=\u001b[0m\u001b[1;36m0\u001b[0m\u001b[1;33m)\u001b[0m\u001b[1;33m,\u001b[0m\u001b[1;36m1.96\u001b[0m \u001b[1;33m*\u001b[0m \u001b[0mnp\u001b[0m\u001b[1;33m.\u001b[0m\u001b[0mnanstd\u001b[0m\u001b[1;33m(\u001b[0m\u001b[0mall_num_robots\u001b[0m\u001b[1;33m.\u001b[0m\u001b[0mastype\u001b[0m\u001b[1;33m(\u001b[0m\u001b[0mnp\u001b[0m\u001b[1;33m.\u001b[0m\u001b[0mfloat\u001b[0m\u001b[1;33m)\u001b[0m\u001b[1;33m,\u001b[0m\u001b[0maxis\u001b[0m\u001b[1;33m=\u001b[0m\u001b[1;36m0\u001b[0m\u001b[1;33m)\u001b[0m \u001b[1;33m/\u001b[0m \u001b[0mnp\u001b[0m\u001b[1;33m.\u001b[0m\u001b[0msqrt\u001b[0m\u001b[1;33m(\u001b[0m\u001b[0mall_num_robots\u001b[0m\u001b[1;33m.\u001b[0m\u001b[0mcount\u001b[0m\u001b[1;33m(\u001b[0m\u001b[0maxis\u001b[0m\u001b[1;33m=\u001b[0m\u001b[1;36m0\u001b[0m\u001b[1;33m)\u001b[0m\u001b[1;33m.\u001b[0m\u001b[0mastype\u001b[0m\u001b[1;33m(\u001b[0m\u001b[0mnp\u001b[0m\u001b[1;33m.\u001b[0m\u001b[0mfloat\u001b[0m\u001b[1;33m)\u001b[0m\u001b[1;33m)\u001b[0m\u001b[1;33m\u001b[0m\u001b[0m\n\u001b[0m\u001b[0;32m    279\u001b[0m             \u001b[1;31m# print(self.num_successful_robots['Mean'].loc[i])\u001b[0m\u001b[1;33m\u001b[0m\u001b[1;33m\u001b[0m\u001b[0m\n\u001b[0;32m    280\u001b[0m             \u001b[1;31m# print(self.num_successful_robots['CI95'].loc[i])\u001b[0m\u001b[1;33m\u001b[0m\u001b[1;33m\u001b[0m\u001b[0m\n",
      "\u001b[1;32mC:\\ProgramData\\Anaconda3\\lib\\site-packages\\numpy\\lib\\nanfunctions.py\u001b[0m in \u001b[0;36mnanmean\u001b[1;34m(a, axis, dtype, out, keepdims)\u001b[0m\n\u001b[0;32m    863\u001b[0m     \u001b[0mcnt\u001b[0m \u001b[1;33m=\u001b[0m \u001b[0mnp\u001b[0m\u001b[1;33m.\u001b[0m\u001b[0msum\u001b[0m\u001b[1;33m(\u001b[0m\u001b[1;33m~\u001b[0m\u001b[0mmask\u001b[0m\u001b[1;33m,\u001b[0m \u001b[0maxis\u001b[0m\u001b[1;33m=\u001b[0m\u001b[0maxis\u001b[0m\u001b[1;33m,\u001b[0m \u001b[0mdtype\u001b[0m\u001b[1;33m=\u001b[0m\u001b[0mnp\u001b[0m\u001b[1;33m.\u001b[0m\u001b[0mintp\u001b[0m\u001b[1;33m,\u001b[0m \u001b[0mkeepdims\u001b[0m\u001b[1;33m=\u001b[0m\u001b[0mkeepdims\u001b[0m\u001b[1;33m)\u001b[0m\u001b[1;33m\u001b[0m\u001b[0m\n\u001b[0;32m    864\u001b[0m     \u001b[0mtot\u001b[0m \u001b[1;33m=\u001b[0m \u001b[0mnp\u001b[0m\u001b[1;33m.\u001b[0m\u001b[0msum\u001b[0m\u001b[1;33m(\u001b[0m\u001b[0marr\u001b[0m\u001b[1;33m,\u001b[0m \u001b[0maxis\u001b[0m\u001b[1;33m=\u001b[0m\u001b[0maxis\u001b[0m\u001b[1;33m,\u001b[0m \u001b[0mdtype\u001b[0m\u001b[1;33m=\u001b[0m\u001b[0mdtype\u001b[0m\u001b[1;33m,\u001b[0m \u001b[0mout\u001b[0m\u001b[1;33m=\u001b[0m\u001b[0mout\u001b[0m\u001b[1;33m,\u001b[0m \u001b[0mkeepdims\u001b[0m\u001b[1;33m=\u001b[0m\u001b[0mkeepdims\u001b[0m\u001b[1;33m)\u001b[0m\u001b[1;33m\u001b[0m\u001b[0m\n\u001b[1;32m--> 865\u001b[1;33m     \u001b[0mavg\u001b[0m \u001b[1;33m=\u001b[0m \u001b[0m_divide_by_count\u001b[0m\u001b[1;33m(\u001b[0m\u001b[0mtot\u001b[0m\u001b[1;33m,\u001b[0m \u001b[0mcnt\u001b[0m\u001b[1;33m,\u001b[0m \u001b[0mout\u001b[0m\u001b[1;33m=\u001b[0m\u001b[0mout\u001b[0m\u001b[1;33m)\u001b[0m\u001b[1;33m\u001b[0m\u001b[0m\n\u001b[0m\u001b[0;32m    866\u001b[0m \u001b[1;33m\u001b[0m\u001b[0m\n\u001b[0;32m    867\u001b[0m     \u001b[0misbad\u001b[0m \u001b[1;33m=\u001b[0m \u001b[1;33m(\u001b[0m\u001b[0mcnt\u001b[0m \u001b[1;33m==\u001b[0m \u001b[1;36m0\u001b[0m\u001b[1;33m)\u001b[0m\u001b[1;33m\u001b[0m\u001b[0m\n",
      "\u001b[1;32mC:\\ProgramData\\Anaconda3\\lib\\site-packages\\numpy\\lib\\nanfunctions.py\u001b[0m in \u001b[0;36m_divide_by_count\u001b[1;34m(a, b, out)\u001b[0m\n\u001b[0;32m    177\u001b[0m         \u001b[1;32mif\u001b[0m \u001b[0misinstance\u001b[0m\u001b[1;33m(\u001b[0m\u001b[0ma\u001b[0m\u001b[1;33m,\u001b[0m \u001b[0mnp\u001b[0m\u001b[1;33m.\u001b[0m\u001b[0mndarray\u001b[0m\u001b[1;33m)\u001b[0m\u001b[1;33m:\u001b[0m\u001b[1;33m\u001b[0m\u001b[0m\n\u001b[0;32m    178\u001b[0m             \u001b[1;32mif\u001b[0m \u001b[0mout\u001b[0m \u001b[1;32mis\u001b[0m \u001b[1;32mNone\u001b[0m\u001b[1;33m:\u001b[0m\u001b[1;33m\u001b[0m\u001b[0m\n\u001b[1;32m--> 179\u001b[1;33m                 \u001b[1;32mreturn\u001b[0m \u001b[0mnp\u001b[0m\u001b[1;33m.\u001b[0m\u001b[0mdivide\u001b[0m\u001b[1;33m(\u001b[0m\u001b[0ma\u001b[0m\u001b[1;33m,\u001b[0m \u001b[0mb\u001b[0m\u001b[1;33m,\u001b[0m \u001b[0mout\u001b[0m\u001b[1;33m=\u001b[0m\u001b[0ma\u001b[0m\u001b[1;33m,\u001b[0m \u001b[0mcasting\u001b[0m\u001b[1;33m=\u001b[0m\u001b[1;34m'unsafe'\u001b[0m\u001b[1;33m)\u001b[0m\u001b[1;33m\u001b[0m\u001b[0m\n\u001b[0m\u001b[0;32m    180\u001b[0m             \u001b[1;32melse\u001b[0m\u001b[1;33m:\u001b[0m\u001b[1;33m\u001b[0m\u001b[0m\n\u001b[0;32m    181\u001b[0m                 \u001b[1;32mreturn\u001b[0m \u001b[0mnp\u001b[0m\u001b[1;33m.\u001b[0m\u001b[0mdivide\u001b[0m\u001b[1;33m(\u001b[0m\u001b[0ma\u001b[0m\u001b[1;33m,\u001b[0m \u001b[0mb\u001b[0m\u001b[1;33m,\u001b[0m \u001b[0mout\u001b[0m\u001b[1;33m=\u001b[0m\u001b[0mout\u001b[0m\u001b[1;33m,\u001b[0m \u001b[0mcasting\u001b[0m\u001b[1;33m=\u001b[0m\u001b[1;34m'unsafe'\u001b[0m\u001b[1;33m)\u001b[0m\u001b[1;33m\u001b[0m\u001b[0m\n",
      "\u001b[1;31mZeroDivisionError\u001b[0m: division by zero"
     ]
    }
   ],
   "source": [
    "# file_path = '../results/2018-12-01-TwoClusters-RepAtt-Noise0-100pct-Q1-40-xtlog'\n",
    "# file_path = '../results/2018-11-30-TwoClusters-RW-turnP-xtlog'\n",
    "for file_path in sim_folders[3:]:\n",
    "    print(file_path)\n",
    "    #Constructor without creating new readMe\n",
    "    plotObj = MyPlotter(0,'oldReadme')\n",
    "    \n",
    "#     Initialize the MyPlotter object with the desired folder\n",
    "    plotObj.initSimulations(file_path=file_path)\n",
    "    \n",
    "#     Process time taken to forage litter in steps of 10 percent of total litter\n",
    "    plotObj.processLitterData()\n",
    "    \n",
    "#     Extract other logged parameters of the swarm\n",
    "    plotObj.processParamData()\n",
    "    \n",
    "#     Save processed information in excel file\n",
    "    plotObj.saveResults()\n",
    "    print()"
   ]
  },
  {
   "cell_type": "code",
   "execution_count": null,
   "metadata": {},
   "outputs": [],
   "source": []
  }
 ],
 "metadata": {
  "kernelspec": {
   "display_name": "Python 3",
   "language": "python",
   "name": "python3"
  },
  "language_info": {
   "codemirror_mode": {
    "name": "ipython",
    "version": 3
   },
   "file_extension": ".py",
   "mimetype": "text/x-python",
   "name": "python",
   "nbconvert_exporter": "python",
   "pygments_lexer": "ipython3",
   "version": "3.7.0"
  }
 },
 "nbformat": 4,
 "nbformat_minor": 2
}
