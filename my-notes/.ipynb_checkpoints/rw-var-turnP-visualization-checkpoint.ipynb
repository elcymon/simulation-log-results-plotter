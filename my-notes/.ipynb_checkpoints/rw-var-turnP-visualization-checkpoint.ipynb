{
 "cells": [
  {
   "cell_type": "markdown",
   "metadata": {},
   "source": [
    "## Random Walk Varying Turn Probability\n",
    "In this notebook I generate visual plot of the performance of random walk algorithm as a function of the turning probability of the robot"
   ]
  },
  {
   "cell_type": "code",
   "execution_count": 2,
   "metadata": {
    "collapsed": true
   },
   "outputs": [
    {
     "name": "stdout",
     "output_type": "stream",
     "text": [
      "~$Results.xlsx\n",
      "~$Results-PPT.pptx\n",
      "20181128.tex\n",
      "2Cluster-RepAt-Noise-v-Q-Old.pdf\n",
      "2Cluster-RepAt-Noise-v-Q-Updated.pdf\n",
      "dataProcessing.asv\n",
      "dataProcessing.m\n",
      "Old-RepAtt-Experiment.pdf\n",
      "path-length-distribution.pdf\n",
      "Results.xlsx\n",
      "Results-PPT.pptx\n",
      "turn-angle-distribution.pdf\n",
      "turn-freq-vs-time-rw-0p0025.pdf\n",
      "Updated-RepAtt-Experiment.pdf\n"
     ]
    }
   ],
   "source": [
    "# !ls \"C:\\Users\\scsoo\\OneDrive for Business 1\\All PhD Docs\\Mile stones\\Weekly Report\\reports-latex\\tex\\20181128\""
   ]
  },
  {
   "cell_type": "code",
   "execution_count": 7,
   "metadata": {
    "collapsed": true
   },
   "outputs": [],
   "source": [
    "#import python libraries\n",
    "import pandas as pd\n",
    "%matplotlib inline\n",
    "import matplotlib.pyplot as plt\n",
    "import numpy as np\n",
    "\n",
    "from IPython.display import display"
   ]
  },
  {
   "cell_type": "code",
   "execution_count": 16,
   "metadata": {
    "collapsed": true
   },
   "outputs": [],
   "source": [
    "#!mv ./assets/20181128-rw-var-turnP-means.csv ./assets/20181128-rw-var-turnP.csv"
   ]
  },
  {
   "cell_type": "code",
   "execution_count": 19,
   "metadata": {
    "collapsed": true
   },
   "outputs": [],
   "source": [
    "filepath = \"./assets/20181128-rw-var-turnP.csv\"\n",
    "results = pd.read_csv(filepath)"
   ]
  },
  {
   "cell_type": "code",
   "execution_count": 20,
   "metadata": {
    "collapsed": true
   },
   "outputs": [
    {
     "data": {
      "text/html": [
       "<div>\n",
       "<table border=\"1\" class=\"dataframe\">\n",
       "  <thead>\n",
       "    <tr style=\"text-align: right;\">\n",
       "      <th></th>\n",
       "      <th>World / turnP</th>\n",
       "      <th>0.00015625</th>\n",
       "      <th>0.00025</th>\n",
       "      <th>0.0003125</th>\n",
       "      <th>0.000625</th>\n",
       "      <th>0.00125</th>\n",
       "      <th>0.0025</th>\n",
       "      <th>0.00375</th>\n",
       "      <th>0.005</th>\n",
       "      <th>0.00625</th>\n",
       "      <th>...</th>\n",
       "      <th>0.00025.1</th>\n",
       "      <th>0.0003125.1</th>\n",
       "      <th>0.000625.1</th>\n",
       "      <th>0.00125.1</th>\n",
       "      <th>0.0025.1</th>\n",
       "      <th>0.00375.1</th>\n",
       "      <th>0.005.1</th>\n",
       "      <th>0.00625.1</th>\n",
       "      <th>0.0075.1</th>\n",
       "      <th>0.00875.1</th>\n",
       "    </tr>\n",
       "  </thead>\n",
       "  <tbody>\n",
       "    <tr>\n",
       "      <th>0</th>\n",
       "      <td>One Cluster</td>\n",
       "      <td>2734.400</td>\n",
       "      <td>2821.200</td>\n",
       "      <td>2948.20</td>\n",
       "      <td>3351.60</td>\n",
       "      <td>4438.57</td>\n",
       "      <td>6864.93</td>\n",
       "      <td>10217.10</td>\n",
       "      <td>13668.00</td>\n",
       "      <td>17040.40</td>\n",
       "      <td>...</td>\n",
       "      <td>55.54950</td>\n",
       "      <td>58.72990</td>\n",
       "      <td>65.74410</td>\n",
       "      <td>108.9850</td>\n",
       "      <td>177.6340</td>\n",
       "      <td>294.7440</td>\n",
       "      <td>350.5030</td>\n",
       "      <td>396.0990</td>\n",
       "      <td>275.2560</td>\n",
       "      <td>NaN</td>\n",
       "    </tr>\n",
       "    <tr>\n",
       "      <th>1</th>\n",
       "      <td>Two Clusters</td>\n",
       "      <td>1540.270</td>\n",
       "      <td>1579.200</td>\n",
       "      <td>1594.33</td>\n",
       "      <td>1697.77</td>\n",
       "      <td>2150.90</td>\n",
       "      <td>3066.57</td>\n",
       "      <td>4310.77</td>\n",
       "      <td>5535.57</td>\n",
       "      <td>7068.77</td>\n",
       "      <td>...</td>\n",
       "      <td>28.97580</td>\n",
       "      <td>27.75450</td>\n",
       "      <td>27.86170</td>\n",
       "      <td>43.9781</td>\n",
       "      <td>59.4741</td>\n",
       "      <td>134.2290</td>\n",
       "      <td>130.4820</td>\n",
       "      <td>183.8920</td>\n",
       "      <td>247.8610</td>\n",
       "      <td>271.7370</td>\n",
       "    </tr>\n",
       "    <tr>\n",
       "      <th>2</th>\n",
       "      <td>Four Clusters</td>\n",
       "      <td>850.300</td>\n",
       "      <td>868.567</td>\n",
       "      <td>886.70</td>\n",
       "      <td>956.10</td>\n",
       "      <td>1154.60</td>\n",
       "      <td>1583.03</td>\n",
       "      <td>2117.41</td>\n",
       "      <td>2636.93</td>\n",
       "      <td>3267.30</td>\n",
       "      <td>...</td>\n",
       "      <td>8.24324</td>\n",
       "      <td>12.96700</td>\n",
       "      <td>12.28830</td>\n",
       "      <td>21.4492</td>\n",
       "      <td>37.4969</td>\n",
       "      <td>44.0923</td>\n",
       "      <td>45.1902</td>\n",
       "      <td>64.3744</td>\n",
       "      <td>54.6074</td>\n",
       "      <td>93.7935</td>\n",
       "    </tr>\n",
       "    <tr>\n",
       "      <th>3</th>\n",
       "      <td>Half Cluster</td>\n",
       "      <td>1497.870</td>\n",
       "      <td>1552.400</td>\n",
       "      <td>1583.47</td>\n",
       "      <td>1829.47</td>\n",
       "      <td>2278.10</td>\n",
       "      <td>3518.73</td>\n",
       "      <td>4952.27</td>\n",
       "      <td>6602.40</td>\n",
       "      <td>8575.77</td>\n",
       "      <td>...</td>\n",
       "      <td>36.21080</td>\n",
       "      <td>31.52770</td>\n",
       "      <td>53.11880</td>\n",
       "      <td>73.1136</td>\n",
       "      <td>100.7870</td>\n",
       "      <td>161.2550</td>\n",
       "      <td>196.9950</td>\n",
       "      <td>250.1990</td>\n",
       "      <td>367.2730</td>\n",
       "      <td>523.5030</td>\n",
       "    </tr>\n",
       "    <tr>\n",
       "      <th>4</th>\n",
       "      <td>Uniform</td>\n",
       "      <td>616.767</td>\n",
       "      <td>635.800</td>\n",
       "      <td>631.40</td>\n",
       "      <td>681.00</td>\n",
       "      <td>783.20</td>\n",
       "      <td>1003.07</td>\n",
       "      <td>1282.87</td>\n",
       "      <td>1573.63</td>\n",
       "      <td>1874.27</td>\n",
       "      <td>...</td>\n",
       "      <td>7.91122</td>\n",
       "      <td>7.33691</td>\n",
       "      <td>8.01393</td>\n",
       "      <td>15.1335</td>\n",
       "      <td>14.8782</td>\n",
       "      <td>23.4445</td>\n",
       "      <td>30.3498</td>\n",
       "      <td>42.0537</td>\n",
       "      <td>75.4987</td>\n",
       "      <td>67.7156</td>\n",
       "    </tr>\n",
       "  </tbody>\n",
       "</table>\n",
       "<p>5 rows × 24 columns</p>\n",
       "</div>"
      ],
      "text/plain": [
       "   World / turnP  0.00015625   0.00025  0.0003125  0.000625  0.00125   0.0025  \\\n",
       "0    One Cluster    2734.400  2821.200    2948.20   3351.60  4438.57  6864.93   \n",
       "1   Two Clusters    1540.270  1579.200    1594.33   1697.77  2150.90  3066.57   \n",
       "2  Four Clusters     850.300   868.567     886.70    956.10  1154.60  1583.03   \n",
       "3   Half Cluster    1497.870  1552.400    1583.47   1829.47  2278.10  3518.73   \n",
       "4        Uniform     616.767   635.800     631.40    681.00   783.20  1003.07   \n",
       "\n",
       "    0.00375     0.005   0.00625    ...      0.00025.1  0.0003125.1  \\\n",
       "0  10217.10  13668.00  17040.40    ...       55.54950     58.72990   \n",
       "1   4310.77   5535.57   7068.77    ...       28.97580     27.75450   \n",
       "2   2117.41   2636.93   3267.30    ...        8.24324     12.96700   \n",
       "3   4952.27   6602.40   8575.77    ...       36.21080     31.52770   \n",
       "4   1282.87   1573.63   1874.27    ...        7.91122      7.33691   \n",
       "\n",
       "   0.000625.1  0.00125.1  0.0025.1  0.00375.1   0.005.1  0.00625.1  0.0075.1  \\\n",
       "0    65.74410   108.9850  177.6340   294.7440  350.5030   396.0990  275.2560   \n",
       "1    27.86170    43.9781   59.4741   134.2290  130.4820   183.8920  247.8610   \n",
       "2    12.28830    21.4492   37.4969    44.0923   45.1902    64.3744   54.6074   \n",
       "3    53.11880    73.1136  100.7870   161.2550  196.9950   250.1990  367.2730   \n",
       "4     8.01393    15.1335   14.8782    23.4445   30.3498    42.0537   75.4987   \n",
       "\n",
       "   0.00875.1  \n",
       "0        NaN  \n",
       "1   271.7370  \n",
       "2    93.7935  \n",
       "3   523.5030  \n",
       "4    67.7156  \n",
       "\n",
       "[5 rows x 24 columns]"
      ]
     },
     "execution_count": 20,
     "metadata": {},
     "output_type": "execute_result"
    }
   ],
   "source": [
    "results"
   ]
  },
  {
   "cell_type": "code",
   "execution_count": 41,
   "metadata": {
    "collapsed": false
   },
   "outputs": [
    {
     "data": {
      "text/plain": [
       "array(['One Cluster', 'Two Clusters', 'Four Clusters', 'Half Cluster',\n",
       "       'Uniform'], dtype=object)"
      ]
     },
     "execution_count": 41,
     "metadata": {},
     "output_type": "execute_result"
    }
   ],
   "source": [
    "results.iloc[:,0].values"
   ]
  },
  {
   "cell_type": "code",
   "execution_count": 47,
   "metadata": {
    "collapsed": true
   },
   "outputs": [
    {
     "data": {
      "text/plain": [
       "['0.00015625',\n",
       " '0.00025',\n",
       " '0.0003125',\n",
       " '0.000625',\n",
       " '0.00125',\n",
       " '0.0025',\n",
       " '0.00375',\n",
       " '0.005',\n",
       " '0.00625',\n",
       " '0.0075',\n",
       " '0.00875']"
      ]
     },
     "execution_count": 47,
     "metadata": {},
     "output_type": "execute_result"
    }
   ],
   "source": [
    "list(results.iloc[:,1:12])"
   ]
  },
  {
   "cell_type": "code",
   "execution_count": 50,
   "metadata": {
    "collapsed": true
   },
   "outputs": [
    {
     "data": {
      "text/html": [
       "<div>\n",
       "<table border=\"1\" class=\"dataframe\">\n",
       "  <thead>\n",
       "    <tr style=\"text-align: right;\">\n",
       "      <th></th>\n",
       "      <th>0.00015625</th>\n",
       "      <th>0.00025</th>\n",
       "      <th>0.0003125</th>\n",
       "      <th>0.000625</th>\n",
       "      <th>0.00125</th>\n",
       "      <th>0.0025</th>\n",
       "      <th>0.00375</th>\n",
       "      <th>0.005</th>\n",
       "      <th>0.00625</th>\n",
       "      <th>0.0075</th>\n",
       "      <th>0.00875</th>\n",
       "    </tr>\n",
       "  </thead>\n",
       "  <tbody>\n",
       "    <tr>\n",
       "      <th>One Cluster</th>\n",
       "      <td>2734.400</td>\n",
       "      <td>2821.200</td>\n",
       "      <td>2948.20</td>\n",
       "      <td>3351.60</td>\n",
       "      <td>4438.57</td>\n",
       "      <td>6864.93</td>\n",
       "      <td>10217.10</td>\n",
       "      <td>13668.00</td>\n",
       "      <td>17040.40</td>\n",
       "      <td>18544.00</td>\n",
       "      <td>NaN</td>\n",
       "    </tr>\n",
       "    <tr>\n",
       "      <th>Two Clusters</th>\n",
       "      <td>1540.270</td>\n",
       "      <td>1579.200</td>\n",
       "      <td>1594.33</td>\n",
       "      <td>1697.77</td>\n",
       "      <td>2150.90</td>\n",
       "      <td>3066.57</td>\n",
       "      <td>4310.77</td>\n",
       "      <td>5535.57</td>\n",
       "      <td>7068.77</td>\n",
       "      <td>8515.77</td>\n",
       "      <td>10243.00</td>\n",
       "    </tr>\n",
       "    <tr>\n",
       "      <th>Four Clusters</th>\n",
       "      <td>850.300</td>\n",
       "      <td>868.567</td>\n",
       "      <td>886.70</td>\n",
       "      <td>956.10</td>\n",
       "      <td>1154.60</td>\n",
       "      <td>1583.03</td>\n",
       "      <td>2117.41</td>\n",
       "      <td>2636.93</td>\n",
       "      <td>3267.30</td>\n",
       "      <td>3981.50</td>\n",
       "      <td>4710.53</td>\n",
       "    </tr>\n",
       "    <tr>\n",
       "      <th>Half Cluster</th>\n",
       "      <td>1497.870</td>\n",
       "      <td>1552.400</td>\n",
       "      <td>1583.47</td>\n",
       "      <td>1829.47</td>\n",
       "      <td>2278.10</td>\n",
       "      <td>3518.73</td>\n",
       "      <td>4952.27</td>\n",
       "      <td>6602.40</td>\n",
       "      <td>8575.77</td>\n",
       "      <td>10250.90</td>\n",
       "      <td>12893.60</td>\n",
       "    </tr>\n",
       "    <tr>\n",
       "      <th>Uniform</th>\n",
       "      <td>616.767</td>\n",
       "      <td>635.800</td>\n",
       "      <td>631.40</td>\n",
       "      <td>681.00</td>\n",
       "      <td>783.20</td>\n",
       "      <td>1003.07</td>\n",
       "      <td>1282.87</td>\n",
       "      <td>1573.63</td>\n",
       "      <td>1874.27</td>\n",
       "      <td>2295.97</td>\n",
       "      <td>2685.03</td>\n",
       "    </tr>\n",
       "  </tbody>\n",
       "</table>\n",
       "</div>"
      ],
      "text/plain": [
       "               0.00015625   0.00025  0.0003125  0.000625  0.00125   0.0025  \\\n",
       "One Cluster      2734.400  2821.200    2948.20   3351.60  4438.57  6864.93   \n",
       "Two Clusters     1540.270  1579.200    1594.33   1697.77  2150.90  3066.57   \n",
       "Four Clusters     850.300   868.567     886.70    956.10  1154.60  1583.03   \n",
       "Half Cluster     1497.870  1552.400    1583.47   1829.47  2278.10  3518.73   \n",
       "Uniform           616.767   635.800     631.40    681.00   783.20  1003.07   \n",
       "\n",
       "                0.00375     0.005   0.00625    0.0075   0.00875  \n",
       "One Cluster    10217.10  13668.00  17040.40  18544.00       NaN  \n",
       "Two Clusters    4310.77   5535.57   7068.77   8515.77  10243.00  \n",
       "Four Clusters   2117.41   2636.93   3267.30   3981.50   4710.53  \n",
       "Half Cluster    4952.27   6602.40   8575.77  10250.90  12893.60  \n",
       "Uniform         1282.87   1573.63   1874.27   2295.97   2685.03  "
      ]
     },
     "execution_count": 50,
     "metadata": {},
     "output_type": "execute_result"
    }
   ],
   "source": [
    "#myMeans = results.iloc[:,0:12]\n",
    "myMeans = pd.DataFrame(results.iloc[:,1:12].values,index=results.iloc[:,0].values,\n",
    "                       columns=list(results.iloc[:,1:12]))\n",
    "myMeans"
   ]
  },
  {
   "cell_type": "code",
   "execution_count": 51,
   "metadata": {
    "collapsed": true
   },
   "outputs": [
    {
     "data": {
      "text/html": [
       "<div>\n",
       "<table border=\"1\" class=\"dataframe\">\n",
       "  <thead>\n",
       "    <tr style=\"text-align: right;\">\n",
       "      <th></th>\n",
       "      <th>One Cluster</th>\n",
       "      <th>Two Clusters</th>\n",
       "      <th>Four Clusters</th>\n",
       "      <th>Half Cluster</th>\n",
       "      <th>Uniform</th>\n",
       "    </tr>\n",
       "  </thead>\n",
       "  <tbody>\n",
       "    <tr>\n",
       "      <th>0.00015625</th>\n",
       "      <td>2734.40</td>\n",
       "      <td>1540.27</td>\n",
       "      <td>850.300</td>\n",
       "      <td>1497.87</td>\n",
       "      <td>616.767</td>\n",
       "    </tr>\n",
       "    <tr>\n",
       "      <th>0.00025</th>\n",
       "      <td>2821.20</td>\n",
       "      <td>1579.20</td>\n",
       "      <td>868.567</td>\n",
       "      <td>1552.40</td>\n",
       "      <td>635.800</td>\n",
       "    </tr>\n",
       "    <tr>\n",
       "      <th>0.0003125</th>\n",
       "      <td>2948.20</td>\n",
       "      <td>1594.33</td>\n",
       "      <td>886.700</td>\n",
       "      <td>1583.47</td>\n",
       "      <td>631.400</td>\n",
       "    </tr>\n",
       "    <tr>\n",
       "      <th>0.000625</th>\n",
       "      <td>3351.60</td>\n",
       "      <td>1697.77</td>\n",
       "      <td>956.100</td>\n",
       "      <td>1829.47</td>\n",
       "      <td>681.000</td>\n",
       "    </tr>\n",
       "    <tr>\n",
       "      <th>0.00125</th>\n",
       "      <td>4438.57</td>\n",
       "      <td>2150.90</td>\n",
       "      <td>1154.600</td>\n",
       "      <td>2278.10</td>\n",
       "      <td>783.200</td>\n",
       "    </tr>\n",
       "    <tr>\n",
       "      <th>0.0025</th>\n",
       "      <td>6864.93</td>\n",
       "      <td>3066.57</td>\n",
       "      <td>1583.030</td>\n",
       "      <td>3518.73</td>\n",
       "      <td>1003.070</td>\n",
       "    </tr>\n",
       "    <tr>\n",
       "      <th>0.00375</th>\n",
       "      <td>10217.10</td>\n",
       "      <td>4310.77</td>\n",
       "      <td>2117.410</td>\n",
       "      <td>4952.27</td>\n",
       "      <td>1282.870</td>\n",
       "    </tr>\n",
       "    <tr>\n",
       "      <th>0.005</th>\n",
       "      <td>13668.00</td>\n",
       "      <td>5535.57</td>\n",
       "      <td>2636.930</td>\n",
       "      <td>6602.40</td>\n",
       "      <td>1573.630</td>\n",
       "    </tr>\n",
       "    <tr>\n",
       "      <th>0.00625</th>\n",
       "      <td>17040.40</td>\n",
       "      <td>7068.77</td>\n",
       "      <td>3267.300</td>\n",
       "      <td>8575.77</td>\n",
       "      <td>1874.270</td>\n",
       "    </tr>\n",
       "    <tr>\n",
       "      <th>0.0075</th>\n",
       "      <td>18544.00</td>\n",
       "      <td>8515.77</td>\n",
       "      <td>3981.500</td>\n",
       "      <td>10250.90</td>\n",
       "      <td>2295.970</td>\n",
       "    </tr>\n",
       "    <tr>\n",
       "      <th>0.00875</th>\n",
       "      <td>NaN</td>\n",
       "      <td>10243.00</td>\n",
       "      <td>4710.530</td>\n",
       "      <td>12893.60</td>\n",
       "      <td>2685.030</td>\n",
       "    </tr>\n",
       "  </tbody>\n",
       "</table>\n",
       "</div>"
      ],
      "text/plain": [
       "            One Cluster  Two Clusters  Four Clusters  Half Cluster   Uniform\n",
       "0.00015625      2734.40       1540.27        850.300       1497.87   616.767\n",
       "0.00025         2821.20       1579.20        868.567       1552.40   635.800\n",
       "0.0003125       2948.20       1594.33        886.700       1583.47   631.400\n",
       "0.000625        3351.60       1697.77        956.100       1829.47   681.000\n",
       "0.00125         4438.57       2150.90       1154.600       2278.10   783.200\n",
       "0.0025          6864.93       3066.57       1583.030       3518.73  1003.070\n",
       "0.00375        10217.10       4310.77       2117.410       4952.27  1282.870\n",
       "0.005          13668.00       5535.57       2636.930       6602.40  1573.630\n",
       "0.00625        17040.40       7068.77       3267.300       8575.77  1874.270\n",
       "0.0075         18544.00       8515.77       3981.500      10250.90  2295.970\n",
       "0.00875             NaN      10243.00       4710.530      12893.60  2685.030"
      ]
     },
     "execution_count": 51,
     "metadata": {},
     "output_type": "execute_result"
    }
   ],
   "source": [
    "myMeans.T"
   ]
  },
  {
   "cell_type": "code",
   "execution_count": 91,
   "metadata": {
    "collapsed": false
   },
   "outputs": [
    {
     "data": {
      "image/png": "[encoded data removed]",
      "text/plain": [
       "<matplotlib.figure.Figure at 0xb81b170>"
      ]
     },
     "metadata": {},
     "output_type": "display_data"
    }
   ],
   "source": [
    "colors = plt.cm.jet(np.linspace(0,1,11))\n",
    "f = plt.figure()\n",
    "myMeans.plot(kind='bar',ax = f.gca(),color=colors,rot=0,width=0.8,figsize=(10,5))\n",
    "plt.legend(loc='center left',bbox_to_anchor=(1,0.5))\n",
    "plt.xlabel('Litter Distribution')\n",
    "plt.ylabel('Time to forage 90% litter (seconds)')\n",
    "\n",
    "f.savefig('./note-outputs/RW-var-turn_prob' + '.pdf', bbox_inches='tight')"
   ]
  },
  {
   "cell_type": "code",
   "execution_count": 64,
   "metadata": {
    "collapsed": true
   },
   "outputs": [
    {
     "data": {
      "text/plain": [
       "array([[  0.00000000e+00,   0.00000000e+00,   5.00000000e-01,\n",
       "          1.00000000e+00],\n",
       "       [  0.00000000e+00,   0.00000000e+00,   9.09982175e-01,\n",
       "          1.00000000e+00],\n",
       "       [  0.00000000e+00,   2.21568627e-01,   1.00000000e+00,\n",
       "          1.00000000e+00],\n",
       "       [  0.00000000e+00,   5.82352941e-01,   1.00000000e+00,\n",
       "          1.00000000e+00],\n",
       "       [  4.74383302e-02,   9.58823529e-01,   9.20303605e-01,\n",
       "          1.00000000e+00],\n",
       "       [  3.38393422e-01,   1.00000000e+00,   6.29348514e-01,\n",
       "          1.00000000e+00],\n",
       "       [  6.29348514e-01,   1.00000000e+00,   3.38393422e-01,\n",
       "          1.00000000e+00],\n",
       "       [  9.20303605e-01,   1.00000000e+00,   4.74383302e-02,\n",
       "          1.00000000e+00],\n",
       "       [  1.00000000e+00,   6.68845316e-01,   0.00000000e+00,\n",
       "          1.00000000e+00],\n",
       "       [  1.00000000e+00,   3.34785766e-01,   0.00000000e+00,\n",
       "          1.00000000e+00],\n",
       "       [  9.09982175e-01,   7.26216412e-04,   0.00000000e+00,\n",
       "          1.00000000e+00],\n",
       "       [  5.00000000e-01,   0.00000000e+00,   0.00000000e+00,\n",
       "          1.00000000e+00]])"
      ]
     },
     "execution_count": 64,
     "metadata": {},
     "output_type": "execute_result"
    }
   ],
   "source": [
    "colors = plt.cm.jet(np.linspace(0,1,12))\n",
    "colors"
   ]
  },
  {
   "cell_type": "code",
   "execution_count": 5,
   "metadata": {
    "collapsed": false,
    "scrolled": true
   },
   "outputs": [
    {
     "data": {
      "text/html": [
       "<div>\n",
       "<table border=\"1\" class=\"dataframe\">\n",
       "  <thead>\n",
       "    <tr style=\"text-align: right;\">\n",
       "      <th></th>\n",
       "      <th>World / turnP</th>\n",
       "      <th>0</th>\n",
       "      <th>0.00015625</th>\n",
       "      <th>0.00125</th>\n",
       "      <th>0.0025</th>\n",
       "      <th>0.005</th>\n",
       "      <th>Unnamed: 6</th>\n",
       "      <th>0.1</th>\n",
       "      <th>0.00015625.1</th>\n",
       "      <th>0.00125.1</th>\n",
       "      <th>0.0025.1</th>\n",
       "      <th>0.005.1</th>\n",
       "    </tr>\n",
       "  </thead>\n",
       "  <tbody>\n",
       "    <tr>\n",
       "      <th>0</th>\n",
       "      <td>One Cluster</td>\n",
       "      <td>647.433</td>\n",
       "      <td>707.500</td>\n",
       "      <td>1032.670</td>\n",
       "      <td>1470.070</td>\n",
       "      <td>2616.900</td>\n",
       "      <td>NaN</td>\n",
       "      <td>26.1604</td>\n",
       "      <td>23.2201</td>\n",
       "      <td>52.6442</td>\n",
       "      <td>80.4576</td>\n",
       "      <td>132.2550</td>\n",
       "    </tr>\n",
       "    <tr>\n",
       "      <th>1</th>\n",
       "      <td>Two Clusters</td>\n",
       "      <td>462.133</td>\n",
       "      <td>458.233</td>\n",
       "      <td>600.667</td>\n",
       "      <td>775.633</td>\n",
       "      <td>1283.700</td>\n",
       "      <td>NaN</td>\n",
       "      <td>19.4164</td>\n",
       "      <td>17.7131</td>\n",
       "      <td>25.0944</td>\n",
       "      <td>45.7746</td>\n",
       "      <td>89.6856</td>\n",
       "    </tr>\n",
       "    <tr>\n",
       "      <th>2</th>\n",
       "      <td>Four Clusters</td>\n",
       "      <td>365.667</td>\n",
       "      <td>371.767</td>\n",
       "      <td>546.133</td>\n",
       "      <td>638.800</td>\n",
       "      <td>917.167</td>\n",
       "      <td>NaN</td>\n",
       "      <td>13.8363</td>\n",
       "      <td>18.6923</td>\n",
       "      <td>38.0071</td>\n",
       "      <td>48.9806</td>\n",
       "      <td>56.2053</td>\n",
       "    </tr>\n",
       "    <tr>\n",
       "      <th>3</th>\n",
       "      <td>Half Cluster</td>\n",
       "      <td>566.167</td>\n",
       "      <td>587.667</td>\n",
       "      <td>846.100</td>\n",
       "      <td>1298.670</td>\n",
       "      <td>1979.300</td>\n",
       "      <td>NaN</td>\n",
       "      <td>22.1531</td>\n",
       "      <td>21.6010</td>\n",
       "      <td>34.8617</td>\n",
       "      <td>94.5739</td>\n",
       "      <td>162.3740</td>\n",
       "    </tr>\n",
       "    <tr>\n",
       "      <th>4</th>\n",
       "      <td>Uniform</td>\n",
       "      <td>330.533</td>\n",
       "      <td>358.433</td>\n",
       "      <td>434.733</td>\n",
       "      <td>612.433</td>\n",
       "      <td>897.033</td>\n",
       "      <td>NaN</td>\n",
       "      <td>10.7654</td>\n",
       "      <td>14.2276</td>\n",
       "      <td>22.8394</td>\n",
       "      <td>40.4735</td>\n",
       "      <td>54.3743</td>\n",
       "    </tr>\n",
       "  </tbody>\n",
       "</table>\n",
       "</div>"
      ],
      "text/plain": [
       "   World / turnP        0  0.00015625   0.00125    0.0025     0.005  \\\n",
       "0    One Cluster  647.433     707.500  1032.670  1470.070  2616.900   \n",
       "1   Two Clusters  462.133     458.233   600.667   775.633  1283.700   \n",
       "2  Four Clusters  365.667     371.767   546.133   638.800   917.167   \n",
       "3   Half Cluster  566.167     587.667   846.100  1298.670  1979.300   \n",
       "4        Uniform  330.533     358.433   434.733   612.433   897.033   \n",
       "\n",
       "   Unnamed: 6      0.1  0.00015625.1  0.00125.1  0.0025.1   0.005.1  \n",
       "0         NaN  26.1604       23.2201    52.6442   80.4576  132.2550  \n",
       "1         NaN  19.4164       17.7131    25.0944   45.7746   89.6856  \n",
       "2         NaN  13.8363       18.6923    38.0071   48.9806   56.2053  \n",
       "3         NaN  22.1531       21.6010    34.8617   94.5739  162.3740  \n",
       "4         NaN  10.7654       14.2276    22.8394   40.4735   54.3743  "
      ]
     },
     "execution_count": 5,
     "metadata": {},
     "output_type": "execute_result"
    }
   ],
   "source": [
    "folder = \"C:/Users/scsoo/OneDrive for Business 1/All PhD Docs/Mile stones/Weekly Report/reports-latex/tex/20181128/\"\n",
    "filename = \"Results.xlsx\"\n",
    "results = pd.read_excel(folder + filename, 'rw-var-turnP',skiprows=2,nrows=6)\n",
    "results"
   ]
  },
  {
   "cell_type": "code",
   "execution_count": 9,
   "metadata": {
    "collapsed": false,
    "scrolled": true
   },
   "outputs": [
    {
     "data": {
      "text/html": [
       "<div>\n",
       "<table border=\"1\" class=\"dataframe\">\n",
       "  <thead>\n",
       "    <tr style=\"text-align: right;\">\n",
       "      <th></th>\n",
       "      <th>One Cluster</th>\n",
       "      <th>Two Clusters</th>\n",
       "      <th>Four Clusters</th>\n",
       "      <th>Half Cluster</th>\n",
       "      <th>Uniform</th>\n",
       "    </tr>\n",
       "  </thead>\n",
       "  <tbody>\n",
       "    <tr>\n",
       "      <th>0.000000</th>\n",
       "      <td>647.433</td>\n",
       "      <td>462.133</td>\n",
       "      <td>365.667</td>\n",
       "      <td>566.167</td>\n",
       "      <td>330.533</td>\n",
       "    </tr>\n",
       "    <tr>\n",
       "      <th>0.000156</th>\n",
       "      <td>707.500</td>\n",
       "      <td>458.233</td>\n",
       "      <td>371.767</td>\n",
       "      <td>587.667</td>\n",
       "      <td>358.433</td>\n",
       "    </tr>\n",
       "    <tr>\n",
       "      <th>0.001250</th>\n",
       "      <td>1032.670</td>\n",
       "      <td>600.667</td>\n",
       "      <td>546.133</td>\n",
       "      <td>846.100</td>\n",
       "      <td>434.733</td>\n",
       "    </tr>\n",
       "    <tr>\n",
       "      <th>0.002500</th>\n",
       "      <td>1470.070</td>\n",
       "      <td>775.633</td>\n",
       "      <td>638.800</td>\n",
       "      <td>1298.670</td>\n",
       "      <td>612.433</td>\n",
       "    </tr>\n",
       "    <tr>\n",
       "      <th>0.005000</th>\n",
       "      <td>2616.900</td>\n",
       "      <td>1283.700</td>\n",
       "      <td>917.167</td>\n",
       "      <td>1979.300</td>\n",
       "      <td>897.033</td>\n",
       "    </tr>\n",
       "  </tbody>\n",
       "</table>\n",
       "</div>"
      ],
      "text/plain": [
       "          One Cluster  Two Clusters  Four Clusters  Half Cluster  Uniform\n",
       "0.000000      647.433       462.133        365.667       566.167  330.533\n",
       "0.000156      707.500       458.233        371.767       587.667  358.433\n",
       "0.001250     1032.670       600.667        546.133       846.100  434.733\n",
       "0.002500     1470.070       775.633        638.800      1298.670  612.433\n",
       "0.005000     2616.900      1283.700        917.167      1979.300  897.033"
      ]
     },
     "metadata": {},
     "output_type": "display_data"
    },
    {
     "data": {
      "text/html": [
       "<div>\n",
       "<table border=\"1\" class=\"dataframe\">\n",
       "  <thead>\n",
       "    <tr style=\"text-align: right;\">\n",
       "      <th></th>\n",
       "      <th>One Cluster</th>\n",
       "      <th>Two Clusters</th>\n",
       "      <th>Four Clusters</th>\n",
       "      <th>Half Cluster</th>\n",
       "      <th>Uniform</th>\n",
       "    </tr>\n",
       "  </thead>\n",
       "  <tbody>\n",
       "    <tr>\n",
       "      <th>0.000000</th>\n",
       "      <td>26.1604</td>\n",
       "      <td>19.4164</td>\n",
       "      <td>13.8363</td>\n",
       "      <td>22.1531</td>\n",
       "      <td>10.7654</td>\n",
       "    </tr>\n",
       "    <tr>\n",
       "      <th>0.000156</th>\n",
       "      <td>23.2201</td>\n",
       "      <td>17.7131</td>\n",
       "      <td>18.6923</td>\n",
       "      <td>21.6010</td>\n",
       "      <td>14.2276</td>\n",
       "    </tr>\n",
       "    <tr>\n",
       "      <th>0.001250</th>\n",
       "      <td>52.6442</td>\n",
       "      <td>25.0944</td>\n",
       "      <td>38.0071</td>\n",
       "      <td>34.8617</td>\n",
       "      <td>22.8394</td>\n",
       "    </tr>\n",
       "    <tr>\n",
       "      <th>0.002500</th>\n",
       "      <td>80.4576</td>\n",
       "      <td>45.7746</td>\n",
       "      <td>48.9806</td>\n",
       "      <td>94.5739</td>\n",
       "      <td>40.4735</td>\n",
       "    </tr>\n",
       "    <tr>\n",
       "      <th>0.005000</th>\n",
       "      <td>132.2550</td>\n",
       "      <td>89.6856</td>\n",
       "      <td>56.2053</td>\n",
       "      <td>162.3740</td>\n",
       "      <td>54.3743</td>\n",
       "    </tr>\n",
       "  </tbody>\n",
       "</table>\n",
       "</div>"
      ],
      "text/plain": [
       "          One Cluster  Two Clusters  Four Clusters  Half Cluster  Uniform\n",
       "0.000000      26.1604       19.4164        13.8363       22.1531  10.7654\n",
       "0.000156      23.2201       17.7131        18.6923       21.6010  14.2276\n",
       "0.001250      52.6442       25.0944        38.0071       34.8617  22.8394\n",
       "0.002500      80.4576       45.7746        48.9806       94.5739  40.4735\n",
       "0.005000     132.2550       89.6856        56.2053      162.3740  54.3743"
      ]
     },
     "metadata": {},
     "output_type": "display_data"
    }
   ],
   "source": [
    "myMeans = pd.DataFrame(results.iloc[:,1:6].values,index=results.iloc[:,0].values,\n",
    "                       columns=list(results.iloc[:,1:6]))\n",
    "display(myMeans.T)\n",
    "myCI95 = pd.DataFrame(results.iloc[:,7:12].values,index=results.iloc[:,0].values,\n",
    "                       columns=list(results.iloc[:,1:6]))\n",
    "display(myCI95.T)"
   ]
  },
  {
   "cell_type": "code",
   "execution_count": 10,
   "metadata": {
    "collapsed": true
   },
   "outputs": [],
   "source": [
    "resultLatex = pd.DataFrame(columns=myMeans.columns,index=myMeans.index)\n",
    "for col in myMeans.columns:\n",
    "    for ind in myMeans.index:\n",
    "        resultLatex.loc[ind,col] = \\\n",
    "            '${:.2f} \\pm {:.2f}$'.format(myMeans.loc[ind,col],myCI95.loc[ind,col])\n",
    "resultLatex.to_latex(folder + 'RW-var-turn_prob.tex',\n",
    "                                           encoding='utf-8', escape=False)"
   ]
  },
  {
   "cell_type": "code",
   "execution_count": 15,
   "metadata": {
    "collapsed": false
   },
   "outputs": [
    {
     "data": {
      "image/png": "[encoded data removed]",
      "text/plain": [
       "<matplotlib.figure.Figure at 0x712f970>"
      ]
     },
     "metadata": {},
     "output_type": "display_data"
    }
   ],
   "source": [
    "colors = plt.cm.jet(np.linspace(0,1,11))\n",
    "f = plt.figure()\n",
    "myMeans.plot(kind='bar',ax = f.gca(),color=colors,rot=0,width=0.8,figsize=(10,5))\n",
    "plt.legend(loc='center left',bbox_to_anchor=(1,0.5))\n",
    "plt.xlabel('Litter Distribution')\n",
    "plt.ylabel('Time to forage 90% litter (seconds)')\n",
    "\n",
    "f.savefig('./note-outputs/20181128RW-var-turn_prob' + '.pdf', bbox_inches='tight')\n",
    "f.savefig(folder+'RW-var-turn_prob' + '.pdf', bbox_inches='tight')"
   ]
  }
 ],
 "metadata": {
  "kernelspec": {
   "display_name": "Python 3",
   "language": "python",
   "name": "python3"
  },
  "language_info": {
   "codemirror_mode": {
    "name": "ipython",
    "version": 3
   },
   "file_extension": ".py",
   "mimetype": "text/x-python",
   "name": "python",
   "nbconvert_exporter": "python",
   "pygments_lexer": "ipython3",
   "version": "3.5.1"
  }
 },
 "nbformat": 4,
 "nbformat_minor": 1
}
