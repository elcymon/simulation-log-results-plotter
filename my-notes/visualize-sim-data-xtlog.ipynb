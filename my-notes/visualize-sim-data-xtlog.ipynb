{
 "cells": [
  {
   "cell_type": "markdown",
   "metadata": {},
   "source": [
    "#  Information Visualization\n",
    "The purpose of this notebook is to visualize the information logged during simulation.\n",
    "\n",
    "## Robot Visualization\n",
    "This section is to view the information logged by a robot. I think I can include other methods to visualize information from the whole swarm. But for now, I will stick to visualizing a single robot"
   ]
  },
  {
   "cell_type": "code",
   "execution_count": 4,
   "metadata": {},
   "outputs": [
    {
     "ename": "AttributeError",
     "evalue": "type object 'DataFrame' has no attribute 'floor'",
     "output_type": "error",
     "traceback": [
      "\u001b[1;31m---------------------------------------------------------------------------\u001b[0m",
      "\u001b[1;31mAttributeError\u001b[0m                            Traceback (most recent call last)",
      "\u001b[1;32m<ipython-input-4-335b19a18a5b>\u001b[0m in \u001b[0;36m<module>\u001b[1;34m()\u001b[0m\n\u001b[0;32m      4\u001b[0m \u001b[1;31m# !which python\u001b[0m\u001b[1;33m\u001b[0m\u001b[1;33m\u001b[0m\u001b[0m\n\u001b[0;32m      5\u001b[0m \u001b[1;32mimport\u001b[0m \u001b[0mpandas\u001b[0m \u001b[1;32mas\u001b[0m \u001b[0mpd\u001b[0m\u001b[1;33m\u001b[0m\u001b[0m\n\u001b[1;32m----> 6\u001b[1;33m \u001b[0mpd\u001b[0m\u001b[1;33m.\u001b[0m\u001b[0mDataFrame\u001b[0m\u001b[1;33m.\u001b[0m\u001b[0mfloor\u001b[0m\u001b[1;33m(\u001b[0m\u001b[1;33m[\u001b[0m\u001b[1;36m1.9\u001b[0m\u001b[1;33m]\u001b[0m\u001b[1;33m)\u001b[0m\u001b[1;33m\u001b[0m\u001b[0m\n\u001b[0m",
      "\u001b[1;31mAttributeError\u001b[0m: type object 'DataFrame' has no attribute 'floor'"
     ]
    }
   ],
   "source": [
    "# import pandas as pd\n",
    "# filename = sim_folders[0] + '/readme.md'\n",
    "# pd.read_csv(filename)\n",
    "# !which python\n",
    "import pandas as pd\n",
    "pd.DataFrame.floor([1.9])"
   ]
  },
  {
   "cell_type": "code",
   "execution_count": 1,
   "metadata": {},
   "outputs": [
    {
     "data": {
      "text/plain": [
       "['../results\\\\2019-02-07-OneCluster-RepAtt-N0-100-Q1-40-M2-5-D10-100',\n",
       " '../results\\\\2019-02-07-Uniform-RepAtt-N0-100-Q1-40-M2-5-D10-100']"
      ]
     },
     "execution_count": 1,
     "metadata": {},
     "output_type": "execute_result"
    }
   ],
   "source": [
    "from result_plotter2 import MyPlotter\n",
    "from glob import glob\n",
    "sim_folders = glob('../results/2019*D10-100')\n",
    "# sim_folders = ['../results/2018-12-05-TwoClusters100m-RepAtt-vs-RW-100m']\n",
    "sim_folders# = sim_folders[1:]"
   ]
  },
  {
   "cell_type": "code",
   "execution_count": 2,
   "metadata": {
    "scrolled": true
   },
   "outputs": [
    {
     "name": "stdout",
     "output_type": "stream",
     "text": [
      "../results\\2019-02-07-OneCluster-RepAtt-N0-100-Q1-40-M2-5-D10-100\n",
      "24/24: 30/30\n",
      "../results\\2019-02-07-Uniform-RepAtt-N0-100-Q1-40-M2-5-D10-100\n",
      "24/24: 30/30\n"
     ]
    }
   ],
   "source": [
    "# file_path = '../results/2018-12-01-TwoClusters-RepAtt-Noise0-100pct-Q1-40-xtlog'\n",
    "# file_path = '../results/2018-11-30-TwoClusters-RW-turnP-xtlog'\n",
    "for file_path in sim_folders[:3]:\n",
    "    print(file_path)\n",
    "    #Constructor without creating new readMe\n",
    "    plotObj = MyPlotter(0,'oldReadme')\n",
    "    \n",
    "#     Initialize the MyPlotter object with the desired folder\n",
    "    plotObj.initSimulations(file_path=file_path)\n",
    "    \n",
    "#     Process time taken to forage litter in steps of 10 percent of total litter\n",
    "    plotObj.processLitterData()\n",
    "    \n",
    "#     Extract other logged parameters of the swarm\n",
    "    plotObj.processParamData()\n",
    "    \n",
    "#     Save processed information in excel file\n",
    "    plotObj.saveResults()\n",
    "    print()"
   ]
  },
  {
   "cell_type": "code",
   "execution_count": 4,
   "metadata": {},
   "outputs": [],
   "source": [
    "import os\n",
    "import pathlib\n",
    "for folder in sim_folders:\n",
    "    outputFolder = './note-outputs/' + folder.split(os.sep)[-1] + '/'\n",
    "    resultFile = folder + '/plotsNdata/Results.xlsx'\n",
    "    pathlib.Path(outputFolder).mkdir(parents=False,exist_ok=True)\n",
    "    \n",
    "    !cp {resultFile} {outputFolder}\n",
    "    "
   ]
  }
 ],
 "metadata": {
  "kernelspec": {
   "display_name": "Python 3",
   "language": "python",
   "name": "python3"
  },
  "language_info": {
   "codemirror_mode": {
    "name": "ipython",
    "version": 3
   },
   "file_extension": ".py",
   "mimetype": "text/x-python",
   "name": "python",
   "nbconvert_exporter": "python",
   "pygments_lexer": "ipython3",
   "version": "3.7.0"
  }
 },
 "nbformat": 4,
 "nbformat_minor": 2
}
