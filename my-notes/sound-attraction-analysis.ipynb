{
 "cells": [
  {
   "cell_type": "markdown",
   "metadata": {},
   "source": [
    "# Sound Attraction Analysis\n",
    "This notebook is for comparison of the RW and RepAtt algorithm within a 50m x 50m simulation environment. The purpose of the investigation is to see the differences in navigation of a single robot when it is listening to a single sound source."
   ]
  },
  {
   "cell_type": "code",
   "execution_count": 20,
   "metadata": {},
   "outputs": [],
   "source": [
    "%matplotlib inline\n",
    "import pandas as pd\n",
    "import numpy as np\n",
    "import matplotlib.pyplot as plt\n",
    "import re\n",
    "import pathlib\n",
    "from glob import glob\n",
    "from IPython.display import display\n",
    "import os"
   ]
  },
  {
   "cell_type": "code",
   "execution_count": 21,
   "metadata": {},
   "outputs": [
    {
     "data": {
      "text/plain": [
       "['../results\\\\2019-01-31-rectangle-RepAtt-vs-RW-attraction2sound',\n",
       " '../results\\\\2019-02-01-rectangle-RepAtt-vs-RW-attraction2sound']"
      ]
     },
     "metadata": {},
     "output_type": "display_data"
    }
   ],
   "source": [
    "allsoundResults = glob('../results/2019*attraction2sound')\n",
    "display(allsoundResults)\n",
    "\n",
    "soundResultPath = allsoundResults[1] + '/'"
   ]
  },
  {
   "cell_type": "markdown",
   "metadata": {},
   "source": [
    "## Create Readme\n",
    "My simulations did not create a readme file which I can use to process the different algorithms used to simulate the attraction behaviour. So I need to create one\n",
    "\n",
    "During this process, I also create a list of IDs that represent the different algorithms"
   ]
  },
  {
   "cell_type": "code",
   "execution_count": 22,
   "metadata": {},
   "outputs": [],
   "source": [
    "IDList = []\n",
    "with open(soundResultPath + 'readme2.md','w+') as f:\n",
    "    for name in glob(soundResultPath + '*robot*'):\n",
    "        name = name.replace('\\\\','/')\n",
    "        name = name.split('/')\n",
    "        name = name[-1].split('_')\n",
    "        prefix = name[0]\n",
    "        algID = prefix.split('-')\n",
    "        algID = '-'.join(algID[1:-7])\n",
    "        lineData = 'prefix:{},ID:{}\\n'.format(prefix,algID)\n",
    "        IDList.append(algID)\n",
    "        f.write(lineData)\n",
    "uniqIDs = pd.Series(IDList).unique()\n"
   ]
  },
  {
   "cell_type": "markdown",
   "metadata": {},
   "source": [
    "## Create DataFrames\n",
    "\n",
    "We will need dataframe that represents the logged data and dataframe to hold all instances of a particular parameter of interest for different simulation counts of a particular algorithm"
   ]
  },
  {
   "cell_type": "code",
   "execution_count": 23,
   "metadata": {},
   "outputs": [],
   "source": [
    "def beacon_distance_plots(algIDsims,timeList,analysisFolder,ID):\n",
    "    f = plt.figure()\n",
    "    algIDsims.plot(ax=f.gca(),color=colors)\n",
    "    plt.legend().set_visible(False)\n",
    "    plt.xlabel('Time in Seconds')\n",
    "    plt.ylabel('Distance in metres')\n",
    "    plt.ylim([0, 15])\n",
    "    plt.xticks(np.linspace(min(timeList),max(timeList),10))\n",
    "    f.savefig(analysisFolder + ID + '.pdf', bbox_inches='tight')\n",
    "#     plt.title(ID)\n",
    "#     display(ID,algIDsims)\n",
    "#     plt.legend().set_visible(True)\n",
    "    \n",
    "    plt.close()"
   ]
  },
  {
   "cell_type": "code",
   "execution_count": 24,
   "metadata": {},
   "outputs": [],
   "source": [
    "def beacon_distance_analysis_plot(algIDsims,analysisFolder):\n",
    "    colors = plt.cm.jet(np.linspace(0,1,len(algIDsims['Mean'].index))) # 30 different colors for 30 simulations per algorithm\n",
    "    for cl in algIDsims['Mean'].columns:\n",
    "        if 'Noise' in cl:\n",
    "            col = cl.split('-')\n",
    "            N = int(re.findall('\\d+',col[1])[0])\n",
    "            Q = int(re.findall('\\d+',col[2])[0])\n",
    "            col = '{}-N{:03d}-Q{:02d}'.format(col[0],N,Q)\n",
    "            algIDsims['Mean'].rename(columns={cl:col},inplace=True)\n",
    "            algIDsims['STD'].rename(columns={cl:col},inplace=True)\n",
    "        \n",
    "    algIDsims['Mean'] = algIDsims['Mean'].transpose()\n",
    "    algIDsims['Mean'] = algIDsims['Mean'].sort_index()\n",
    "    \n",
    "    algIDsims['STD'] = algIDsims['STD'].transpose()\n",
    "    algIDsims['STD'] = algIDsims['STD'].sort_index()\n",
    "    \n",
    "    algIDsimsLatex = pd.DataFrame(index=algIDsims['Mean'].index,\n",
    "                                 columns=algIDsims['Mean'].columns)\n",
    "#     display(algIDsimsLatex)\n",
    "#     display(algIDsims['STD'])\n",
    "#     display(algIDsims['Mean'])\n",
    "    for ind in algIDsims['Mean'].index:\n",
    "        \n",
    "        for col in algIDsims['Mean'].columns:\n",
    "#             print(ind,col)\n",
    "            algIDsimsLatex.loc[ind,col] = \\\n",
    "            '${:.2f} \\pm {:.2f}$'.format(algIDsims['Mean'].loc[ind,col],\n",
    "                                         algIDsims['STD'].loc[ind,col])\n",
    "   \n",
    "    algIDsimsLatex.to_latex(analysisFolder + 'beacon_distance.tex',\n",
    "                           encoding='utf-8', escape=False)\n",
    "    f = plt.figure()\n",
    "    algIDsims['Mean'].plot(kind='bar',ax = f.gca(),color=colors,stacked=True)\n",
    "    plt.legend(loc='center left',bbox_to_anchor=(1,0.5),title='Distance').set_visible(True)\n",
    "    plt.ylabel('Time in Seconds')\n",
    "    plt.xlabel('Algorithms')\n",
    "    f.savefig(analysisFolder + 'beacon_distance.pdf', bbox_inches='tight')\n",
    "    \n"
   ]
  },
  {
   "cell_type": "code",
   "execution_count": null,
   "metadata": {},
   "outputs": [],
   "source": []
  },
  {
   "cell_type": "code",
   "execution_count": 25,
   "metadata": {
    "scrolled": true
   },
   "outputs": [
    {
     "data": {
      "text/plain": [
       "'RepAtt-Noise0pct-qsize1'"
      ]
     },
     "metadata": {},
     "output_type": "display_data"
    },
    {
     "data": {
      "text/plain": [
       "29"
      ]
     },
     "metadata": {},
     "output_type": "display_data"
    },
    {
     "data": {
      "text/plain": [
       "'RepAtt-Noise100pct-qsize40'"
      ]
     },
     "metadata": {},
     "output_type": "display_data"
    },
    {
     "data": {
      "text/plain": [
       "29"
      ]
     },
     "metadata": {},
     "output_type": "display_data"
    },
    {
     "data": {
      "text/plain": [
       "'RW-0p0025P'"
      ]
     },
     "metadata": {},
     "output_type": "display_data"
    },
    {
     "data": {
      "text/plain": [
       "29"
      ]
     },
     "metadata": {},
     "output_type": "display_data"
    },
    {
     "data": {
      "image/png": "[encoded data removed]",
      "text/plain": [
       "<Figure size 432x288 with 1 Axes>"
      ]
     },
     "metadata": {
      "needs_background": "light"
     },
     "output_type": "display_data"
    }
   ],
   "source": [
    "analysisFolder = soundResultPath + 'sound_analysis/'\n",
    "pathlib.Path(analysisFolder).mkdir(parents=False,exist_ok=True)\n",
    "\n",
    "logCSVcols = ['name', 'Time', 'xc', 'yc', 'theta', 'turn_prob', 'beacon_distance',\n",
    "          'rep_neigh','rep_signal','call_neigh','call_signal','linear_dist',\n",
    "          'rot_dist','wall_bounces','t_obstacle_avoidance','action','state']\n",
    "timeList = [] # needed to keep list of time steps\n",
    "colors = plt.cm.jet(np.linspace(0,1,30)) # 30 different colors for 30 simulations per algorithm\n",
    "\n",
    "maxDbound = [0.5, 0.8, 1.0]\n",
    "boundRange = ['{}-{}'.format(i,j) for i,j in enumerate(maxDbound)]\n",
    "boundRange.append('> {}'.format(maxDbound[-1]))\n",
    "maxDbound = np.append(maxDbound,np.Inf)\n",
    "\n",
    "allIDdists = {'Mean': pd.DataFrame(index=boundRange),\n",
    "             'STD': pd.DataFrame(index=boundRange)}\n",
    "\n",
    "for ID in uniqIDs:\n",
    "    algIDsims = pd.DataFrame() #dataframe to keep each simulation as column\n",
    "    algIDdist = pd.DataFrame(index=boundRange)\n",
    "    sim = 0\n",
    "    for sim,simTime in enumerate(glob(soundResultPath + '*' + ID + '*')):\n",
    "        simData = pd.read_csv(simTime,header = None, sep = ':|,',\n",
    "                              engine='python', names = logCSVcols)\n",
    "#         display(simData)\n",
    "        if len(simData['Time']) > len(timeList):#keep track of longest rows\n",
    "            timeList = simData['Time']\n",
    "        algIDsims[sim] = simData['beacon_distance']\n",
    "        \n",
    "        for mDbound,ind in zip(maxDbound,boundRange):\n",
    "            if mDbound == np.Inf:\n",
    "                minDbound = maxDbound[-2]\n",
    "            else:\n",
    "                minDbound = mDbound - 1\n",
    "                \n",
    "            algIDdist.loc[ind,sim] = len(algIDsims[sim].loc[\n",
    "                    (algIDsims[sim] >= minDbound)  & \n",
    "                    (algIDsims[sim] <= mDbound)\n",
    "                ])\n",
    "    allIDdists['Mean'][ID] = algIDdist.mean(axis=1)\n",
    "    allIDdists['STD'][ID] = algIDdist.std(axis=1)\n",
    "    beacon_distance_plots(algIDsims,timeList.values,analysisFolder,ID)\n",
    "    display(ID,sim)\n",
    "\n",
    "#plot analysis of all the algorithm's distance from the beacon\n",
    "beacon_distance_analysis_plot(allIDdists,analysisFolder)\n",
    "\n",
    "\n"
   ]
  },
  {
   "cell_type": "code",
   "execution_count": 27,
   "metadata": {},
   "outputs": [
    {
     "data": {
      "text/plain": [
       "RW-0p0025P         1076.800000\n",
       "RepAtt-N000-Q01    2705.166667\n",
       "RepAtt-N100-Q40    1526.566667\n",
       "dtype: float64"
      ]
     },
     "execution_count": 27,
     "metadata": {},
     "output_type": "execute_result"
    }
   ],
   "source": [
    "allIDdists['Mean'].sum(axis=1)"
   ]
  },
  {
   "cell_type": "code",
   "execution_count": 34,
   "metadata": {},
   "outputs": [
    {
     "data": {
      "text/plain": [
       "array([  1,   2,   3,   4,   5, 900])"
      ]
     },
     "execution_count": 34,
     "metadata": {},
     "output_type": "execute_result"
    }
   ],
   "source": [
    "maxDbound = np.arange(5) + 1\n",
    "boundRange = ['{}-{}'.format(i,j) for i,j in enumerate(maxDbound)]\n",
    "boundRange.append('> {}'.format(maxDbound[-1]))\n",
    "boundRange\n",
    "np.append(maxDbound,900)"
   ]
  }
 ],
 "metadata": {
  "kernelspec": {
   "display_name": "Python 3",
   "language": "python",
   "name": "python3"
  },
  "language_info": {
   "codemirror_mode": {
    "name": "ipython",
    "version": 3
   },
   "file_extension": ".py",
   "mimetype": "text/x-python",
   "name": "python",
   "nbconvert_exporter": "python",
   "pygments_lexer": "ipython3",
   "version": "3.7.0"
  }
 },
 "nbformat": 4,
 "nbformat_minor": 2
}
